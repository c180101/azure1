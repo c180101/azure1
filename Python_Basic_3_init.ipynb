{
  "cells": [
    {
      "metadata": {},
      "cell_type": "markdown",
      "source": "## Python 基礎（補足）\n\n### 小数点以下ｎ桁を表示する\n\nデータ分析で扱うデータを表示するとき、小数点以下の桁数を揃えることがよくある。\n\nこのとき、以下の2通りの対策が考えられる。\n\n(1)実際のデータはそのままにして、出力だけを変更する\n\n(2)実際のデータの桁数を変更する\n\n\n(1)出力だけを変更する場合\n\nprint('{:.3f}'.format(123.456789))\n\nを実行すると、出力は、\n\n123.457\n\nとなる。123.456ではなく、123.457となるのは、小数点4桁目に「丸め」という処理を適用しているからである。\n\n文字列をフォーマットするときには、'文字列'.format(値)　というformat記法を使います。旧いバージョンのPythonで用いられていた%記法は、使用しないでください。\n\n(2)実際のデータを変更する場合\n\nx = round(123.456789, 3)\n\nprint(x)\n\nを実行すると、出力は、小数点4桁目で「丸め」処理されて、\n\n123.457\n\nとなる。\n"
    },
    {
      "metadata": {
        "trusted": true
      },
      "cell_type": "code",
      "source": "print('{:.3f}'.format(123.4565))",
      "execution_count": 14,
      "outputs": [
        {
          "output_type": "stream",
          "text": "123.457\n",
          "name": "stdout"
        }
      ]
    },
    {
      "metadata": {
        "trusted": true
      },
      "cell_type": "code",
      "source": "x = round(123.456789, 3)\n\nprint(x)",
      "execution_count": 6,
      "outputs": [
        {
          "output_type": "stream",
          "text": "123.457\n",
          "name": "stdout"
        }
      ]
    },
    {
      "metadata": {},
      "cell_type": "markdown",
      "source": "#### 各自でその他の様々な表示フォーマットを調べて出力しなさい"
    },
    {
      "metadata": {
        "trusted": true
      },
      "cell_type": "code",
      "source": "# 各自で確かめる\n\n",
      "execution_count": null,
      "outputs": []
    },
    {
      "metadata": {},
      "cell_type": "markdown",
      "source": "### 複雑なfor文\n\n辞書型のデータのキーと値を同時に取り出すことができれば便利である。\n\nまず、辞書型データを生成しよう。\n"
    },
    {
      "metadata": {
        "trusted": true
      },
      "cell_type": "code",
      "source": "# dictionary\nsample_dic_data = {'apple': 100, 'banana': 100, 'orange': 300, 'mango': 400, 'melon': 500}\nprint(sample_dic_data)",
      "execution_count": 4,
      "outputs": [
        {
          "output_type": "stream",
          "text": "{'apple': 100, 'banana': 100, 'orange': 300, 'mango': 400, 'melon': 500}\n",
          "name": "stdout"
        }
      ]
    },
    {
      "metadata": {
        "trusted": true
      },
      "cell_type": "code",
      "source": "# キーmelon の値だけを表示させなさい\n\n",
      "execution_count": 5,
      "outputs": []
    },
    {
      "metadata": {
        "trusted": true
      },
      "cell_type": "code",
      "source": "# 解答欄\n",
      "execution_count": null,
      "outputs": []
    },
    {
      "metadata": {},
      "cell_type": "markdown",
      "source": "辞書型データのキーを1つずつ取り出し、値と共に出力する。"
    },
    {
      "metadata": {
        "trusted": true
      },
      "cell_type": "code",
      "source": "# for 文\nfor dic_key in sample_dic_data:\n    print(dic_key, sample_dic_data[dic_key])",
      "execution_count": null,
      "outputs": []
    },
    {
      "metadata": {},
      "cell_type": "markdown",
      "source": "では、辞書型データのキーと値を同時に取り出すにはどうすればよいだろうか？\n\nオブジェクト指向型プログラミングには、データ（ここではsample_dic_data）とそれを処理するためのメソッド（以下のitems()）がセットになっている、という特徴がある。この特徴を利用すると、キーと値を返す処理を実現できる。items()メソッドは、キーと値を両方取得するメソッドである。\n\n"
    },
    {
      "metadata": {
        "trusted": true
      },
      "cell_type": "code",
      "source": "# key, value\nfor key, value in sample_dic_data.items():\n    print(key, value)",
      "execution_count": 17,
      "outputs": [
        {
          "output_type": "stream",
          "text": "apple 100\nbanana 100\norange 300\nmango 400\nmelon 500\n",
          "name": "stdout"
        }
      ]
    },
    {
      "metadata": {},
      "cell_type": "markdown",
      "source": "### 練習問題\n##### 'beef': 500         'chicken': 200         'pork': 300         'wagyu': 1000         'mutton': 250\n##### を要素とする辞書型データ meat_dic_data を作成し、値が最大となるキーとその値を表示するPythonコードを作成しなさい（答えは、wagyu 1000）\n"
    },
    {
      "metadata": {
        "trusted": true
      },
      "cell_type": "code",
      "source": "# コード記入セル\n# 辞書型データ作成\n\n# 最大値を探す\n\n# 結果を出力\n",
      "execution_count": null,
      "outputs": []
    },
    {
      "metadata": {},
      "cell_type": "markdown",
      "source": "### 内包表記\n\nリスト内包表記は、for文を使って取り出したデータから、別のリストを作成する方法である。\n\n最初に、通常の方法でリストを作成してみよう。\n"
    },
    {
      "metadata": {
        "trusted": true
      },
      "cell_type": "code",
      "source": "# list\nsample_data_list = [11, 12, 13, 14, 15, 16, 17, 18, 19, 20]\nprint(sample_data_list)",
      "execution_count": 8,
      "outputs": [
        {
          "output_type": "stream",
          "text": "[11, 12, 13, 14, 15, 16, 17, 18, 19, 20]\n",
          "name": "stdout"
        }
      ]
    },
    {
      "metadata": {},
      "cell_type": "markdown",
      "source": "このリストsample_data_listの要素の値が2倍された新しいリストsample_data_list1を作成する。"
    },
    {
      "metadata": {
        "trusted": true
      },
      "cell_type": "code",
      "source": "# 空のリストを作成\nsample_data_list1 = []\n\n# sample_data_listから1つ1つ要素を取り出し、2倍した数字を新たなリストに追加する\nfor i in sample_data_list:\n    sample_data_list1.append(i * 2)\n    \nprint(sample_data_list1)",
      "execution_count": 9,
      "outputs": [
        {
          "output_type": "stream",
          "text": "[22, 24, 26, 28, 30, 32, 34, 36, 38, 40]\n",
          "name": "stdout"
        }
      ]
    },
    {
      "metadata": {},
      "cell_type": "markdown",
      "source": "#### 内包表記を使ってみよう\n##### 内包表記を用いると、最初に空のリストを作成することなく、リストを定義するステートメントの中で要素の値を記述できる"
    },
    {
      "metadata": {
        "trusted": true
      },
      "cell_type": "code",
      "source": "# 内包表記、sample_data_listから1つ1つ要素を取り出し、2倍した数字を新たな要素とするリストを作成\n\nsample_data_list2 = [  ここにコードを記入しなさい  ]\n\nprint(sample_data_list2)",
      "execution_count": 10,
      "outputs": [
        {
          "output_type": "stream",
          "text": "[22, 24, 26, 28, 30, 32, 34, 36, 38, 40]\n",
          "name": "stdout"
        }
      ]
    },
    {
      "metadata": {},
      "cell_type": "markdown",
      "source": "### zip関数\n\nzip関数は、異なるリストから要素を同時に取り出す処理を行う。たとえば、['A', 'B', 'C']というリストと、[50, 75, 90]という2つのリストがある。同じインデックスを使って値を取り出して表示したいとき、すなわち、Aと50、Bと75、Cと90を表示させたいとき、zip関数を使うと簡単に実現できる。"
    },
    {
      "metadata": {
        "trusted": true
      },
      "cell_type": "code",
      "source": "for x, y in zip(['A', 'B', 'C'], [50, 75, 90]):\n    print(x, 'と', y)",
      "execution_count": 31,
      "outputs": [
        {
          "output_type": "stream",
          "text": "A と 50\nB と 75\nC と 90\n",
          "name": "stdout"
        }
      ]
    },
    {
      "metadata": {},
      "cell_type": "markdown",
      "source": "### 練習問題\n\n#### 作成済みのリストsample_data_list1とsample_data_list2とを使って、それぞれのリストの１番目の要素同士の和（足し算）、２番目の要素同士の和、．．．、最後の要素同士の和を要素とするリストsample_data_list3を内包表記を使って作成しなさい。"
    },
    {
      "metadata": {
        "trusted": true
      },
      "cell_type": "code",
      "source": "# コードを記入しなさい\nsample_data_list3 = [ ここにコードを記入しなさい ]\nprint(sample_data_list3)",
      "execution_count": 12,
      "outputs": [
        {
          "output_type": "stream",
          "text": "[44, 48, 52, 56, 60, 64, 68, 72, 76, 80]\n",
          "name": "stdout"
        }
      ]
    },
    {
      "metadata": {},
      "cell_type": "markdown",
      "source": "### 配列\n\nPythonのモジュールnumpyを利用すると、配列型データを扱うことができる。現実世界で扱うデータは多次元データであることが多いが、numpyを用いることにより多次元配列を処理することができる。\n\nNumpyでは、配列はarrayオブジェクトとして構成され、np.arrayのように指定して用いる。\n\nNumpyで扱うデータは、整数、浮動小数などのデータの「型(type)」がある。\n"
    },
    {
      "metadata": {
        "trusted": true
      },
      "cell_type": "code",
      "source": "# numpyの読み込み\nimport numpy as np\n",
      "execution_count": 40,
      "outputs": []
    },
    {
      "metadata": {
        "trusted": true
      },
      "cell_type": "code",
      "source": "# 配列の作成\ndata = np.array([10, 9, 8, 7, 6, 5, 4, 3, 2, 1, 0])\n\nprint(data)\ndata",
      "execution_count": 41,
      "outputs": [
        {
          "output_type": "stream",
          "text": "[10  9  8  7  6  5  4  3  2  1  0]\n",
          "name": "stdout"
        },
        {
          "output_type": "execute_result",
          "execution_count": 41,
          "data": {
            "text/plain": "array([10,  9,  8,  7,  6,  5,  4,  3,  2,  1,  0])"
          },
          "metadata": {}
        }
      ]
    },
    {
      "metadata": {},
      "cell_type": "markdown",
      "source": "配列dataのデータタイプは、.dtype　と指定することによって調べることができる。この　.dtype　は、オブジェクトのプロパティ(property)を調べることである。"
    },
    {
      "metadata": {
        "trusted": true
      },
      "cell_type": "code",
      "source": "data.dtype",
      "execution_count": 42,
      "outputs": [
        {
          "output_type": "execute_result",
          "execution_count": 42,
          "data": {
            "text/plain": "dtype('int64')"
          },
          "metadata": {}
        }
      ]
    },
    {
      "metadata": {},
      "cell_type": "markdown",
      "source": "Jupyter Notebookの便利な機能として、data.　などのように「.」を入力した後に、Tabキーを押してみよう。変数（たとえば、data）が持っているプロパティやメソッドの一覧が表示される。\n\n配列の次元数や要素数は、それぞれ、ndimプロパティとsizeプロパティを参照することによって取得できる。\n\n#### 自分で確かめよう！"
    },
    {
      "metadata": {
        "trusted": true
      },
      "cell_type": "code",
      "source": "print(data.ndim)\nprint(data.size)",
      "execution_count": 45,
      "outputs": [
        {
          "output_type": "stream",
          "text": "1\n11\n",
          "name": "stdout"
        }
      ]
    },
    {
      "metadata": {},
      "cell_type": "markdown",
      "source": "### 配列の要素に対する計算\n\nNumpyの配列の各要素の2倍の値を要素とする配列は、簡単に作成できる。for文を使わなくてもよい。"
    },
    {
      "metadata": {
        "trusted": true
      },
      "cell_type": "code",
      "source": "data2 = data * 2\ndata2",
      "execution_count": 48,
      "outputs": [
        {
          "output_type": "execute_result",
          "execution_count": 48,
          "data": {
            "text/plain": "array([20, 18, 16, 14, 12, 10,  8,  6,  4,  2,  0])"
          },
          "metadata": {}
        }
      ]
    },
    {
      "metadata": {},
      "cell_type": "markdown",
      "source": "しかし、リスト(List)の場合、単純に2を掛けても要素の値は2倍にはならない。\n\n#### リストに2を乗算して、結果を調べてみよう"
    },
    {
      "metadata": {
        "trusted": true
      },
      "cell_type": "code",
      "source": "list_data = [1, 2, 3, 4]\n# ここにコードを記入しなさい\n\nprint(list_data)\nprint(list_data2)",
      "execution_count": 47,
      "outputs": [
        {
          "output_type": "stream",
          "text": "[1, 2, 3, 4]\n[1, 2, 3, 4, 1, 2, 3, 4]\n",
          "name": "stdout"
        }
      ]
    },
    {
      "metadata": {},
      "cell_type": "markdown",
      "source": "要素がすべて0である2行3列の行列と、要素がすべて1である2行3列の行列を作ってみよう。"
    },
    {
      "metadata": {
        "trusted": true
      },
      "cell_type": "code",
      "source": "# 0 や 1の初期化データ\n# (2,3)は2行3列の行列データを作る\n\nzero_data = np.zeros((2,3), dtype='i')\none_data = np.ones((2,3), dtype='f')\n\nprint(\"・0でint型　\\n\", zero_data)\n\nprint(\"・1でfloat型 \\n\", one_data)",
      "execution_count": 50,
      "outputs": [
        {
          "output_type": "stream",
          "text": "・0でint型　\n [[0 0 0]\n [0 0 0]]\n・1でfloat型 \n [[1. 1. 1.]\n [1. 1. 1.]]\n",
          "name": "stdout"
        }
      ]
    },
    {
      "metadata": {},
      "cell_type": "markdown",
      "source": "Numpyには、配列型データに対するソート、最小、最大、合計、および累積の計算が用意されている。\n"
    },
    {
      "metadata": {
        "trusted": true
      },
      "cell_type": "code",
      "source": "# ソート\ndata3 = np.array([15, 7, 9, 2, 12, 5])\nprint(data3)\n\ndata3.sort()\nprint(data3)",
      "execution_count": 59,
      "outputs": [
        {
          "output_type": "stream",
          "text": "[15  7  9  2 12  5]\n[ 2  5  7  9 12 15]\n",
          "name": "stdout"
        }
      ]
    },
    {
      "metadata": {
        "trusted": true
      },
      "cell_type": "code",
      "source": "# 最小値\ndata3.min()",
      "execution_count": 60,
      "outputs": [
        {
          "output_type": "execute_result",
          "execution_count": 60,
          "data": {
            "text/plain": "2"
          },
          "metadata": {}
        }
      ]
    },
    {
      "metadata": {
        "trusted": true
      },
      "cell_type": "code",
      "source": "# 最大値\ndata3.max()",
      "execution_count": 61,
      "outputs": [
        {
          "output_type": "execute_result",
          "execution_count": 61,
          "data": {
            "text/plain": "15"
          },
          "metadata": {}
        }
      ]
    },
    {
      "metadata": {
        "trusted": true
      },
      "cell_type": "code",
      "source": "# 合計\ndata3.sum()",
      "execution_count": 62,
      "outputs": [
        {
          "output_type": "execute_result",
          "execution_count": 62,
          "data": {
            "text/plain": "50"
          },
          "metadata": {}
        }
      ]
    },
    {
      "metadata": {
        "trusted": true
      },
      "cell_type": "code",
      "source": "# 累積\ndata3.cumsum()",
      "execution_count": 64,
      "outputs": [
        {
          "output_type": "execute_result",
          "execution_count": 64,
          "data": {
            "text/plain": "array([ 2,  7, 14, 23, 35, 50])"
          },
          "metadata": {}
        }
      ]
    },
    {
      "metadata": {},
      "cell_type": "markdown",
      "source": "### Pandas\n\nここでは、Pandasパッケージの基礎を学ぶ。。Pandasを使うと、データの様々なハンドリングをスムーズに柔軟に実施することができる。\n\n#### DataFrameとSeries\n\npandas.DataFrameは、2次元データを格納するクラスである。numpy.ndarrayと異なるのは、2次元配列であること、データ要素の型が異なっていてもよいことである。配列長は可変長である。インデックスやラベルを与えて、これらの名前を参照して様々なデータ操作（削除、追加、入れ替えなど）を行うことができる。\n\npandas.Seriesは、1次元データを格納するクラスであり、その他の点では、pandas.FataFrameと同様である。\n"
    },
    {
      "metadata": {},
      "cell_type": "markdown",
      "source": "最初に、csv(common-separated values)ファイルからpandas.DataFrameクラスの変数に格納することを考える。\n\ncsvファイルは、ファイルパス（ファイルの保存されているディレクトリとファイル名）を指定することによってJupyter Notebookに取り込むことができる。、\n\npd.read_csv('ファイルパス')\n\n今回の例では、Jupyter Notebookが保存されているフォルダに、ICT2019.csvというcsvファイルをあらかじめ保存しているので、ICT2019.csvを指定すればよい。\n\n"
    },
    {
      "metadata": {},
      "cell_type": "markdown",
      "source": "#### 現在使用しているNotebookが保存されているフォルダにデータファイルICT2019.csvが存在するかどうかを調べるために、\n\n### !ls コマンド\n\n#### を実行してみよう"
    },
    {
      "metadata": {
        "trusted": true
      },
      "cell_type": "code",
      "source": "# 各自フォルダの中身を調べよう\n",
      "execution_count": null,
      "outputs": []
    },
    {
      "metadata": {
        "trusted": true,
        "scrolled": true
      },
      "cell_type": "code",
      "source": "import pandas as pd\nimport numpy as np\n\nict2019_1 = pd.read_csv('ICT2019.csv')\nict2019_1",
      "execution_count": 83,
      "outputs": [
        {
          "output_type": "execute_result",
          "execution_count": 83,
          "data": {
            "text/html": "<div>\n<style scoped>\n    .dataframe tbody tr th:only-of-type {\n        vertical-align: middle;\n    }\n\n    .dataframe tbody tr th {\n        vertical-align: top;\n    }\n\n    .dataframe thead th {\n        text-align: right;\n    }\n</style>\n<table border=\"1\" class=\"dataframe\">\n  <thead>\n    <tr style=\"text-align: right;\">\n      <th></th>\n      <th>ID</th>\n      <th>FACULTY</th>\n      <th>CLASS</th>\n      <th>NAME</th>\n      <th>GROUP</th>\n    </tr>\n  </thead>\n  <tbody>\n    <tr>\n      <th>0</th>\n      <td>C180002</td>\n      <td>IW</td>\n      <td>2S</td>\n      <td>髙見澤　弘和</td>\n      <td>1</td>\n    </tr>\n    <tr>\n      <th>1</th>\n      <td>C180005</td>\n      <td>IW</td>\n      <td>2S</td>\n      <td>弘中　哲哉</td>\n      <td>2</td>\n    </tr>\n    <tr>\n      <th>2</th>\n      <td>C190314</td>\n      <td>IM</td>\n      <td>3M</td>\n      <td>NGUYEN THE ANH</td>\n      <td>3</td>\n    </tr>\n    <tr>\n      <th>3</th>\n      <td>C190342</td>\n      <td>IM</td>\n      <td>3M</td>\n      <td>PHAM THI ANH</td>\n      <td>4</td>\n    </tr>\n    <tr>\n      <th>4</th>\n      <td>C190348</td>\n      <td>IM</td>\n      <td>3M</td>\n      <td>CHAUDHARI DILLIRAJ</td>\n      <td>5</td>\n    </tr>\n    <tr>\n      <th>5</th>\n      <td>C190353</td>\n      <td>IM</td>\n      <td>3M</td>\n      <td>NGUYEN CHI THANH</td>\n      <td>1</td>\n    </tr>\n    <tr>\n      <th>6</th>\n      <td>C190370</td>\n      <td>IM</td>\n      <td>3M</td>\n      <td>TAMRAKAR BITTU</td>\n      <td>2</td>\n    </tr>\n    <tr>\n      <th>7</th>\n      <td>C190396</td>\n      <td>IM</td>\n      <td>3M</td>\n      <td>NWE NI HTWE</td>\n      <td>3</td>\n    </tr>\n    <tr>\n      <th>8</th>\n      <td>C190402</td>\n      <td>IM</td>\n      <td>3M</td>\n      <td>GURUNG SUDIP</td>\n      <td>4</td>\n    </tr>\n    <tr>\n      <th>9</th>\n      <td>C190403</td>\n      <td>IM</td>\n      <td>3M</td>\n      <td>KAUNG MYAT OO</td>\n      <td>5</td>\n    </tr>\n    <tr>\n      <th>10</th>\n      <td>C190404</td>\n      <td>IM</td>\n      <td>3M</td>\n      <td>YAMIN HTET</td>\n      <td>1</td>\n    </tr>\n    <tr>\n      <th>11</th>\n      <td>C190415</td>\n      <td>IM</td>\n      <td>3M</td>\n      <td>PRABU PENDAWA</td>\n      <td>2</td>\n    </tr>\n    <tr>\n      <th>12</th>\n      <td>C190439</td>\n      <td>IM</td>\n      <td>3M</td>\n      <td>SAN YEE MOE</td>\n      <td>3</td>\n    </tr>\n    <tr>\n      <th>13</th>\n      <td>C190452</td>\n      <td>IM</td>\n      <td>3M</td>\n      <td>HEIN KO LAT</td>\n      <td>4</td>\n    </tr>\n    <tr>\n      <th>14</th>\n      <td>C190455</td>\n      <td>IM</td>\n      <td>3M</td>\n      <td>AYE EAINDRA TUN</td>\n      <td>5</td>\n    </tr>\n    <tr>\n      <th>15</th>\n      <td>C190465</td>\n      <td>IM</td>\n      <td>3M</td>\n      <td>SARI YULIANTI</td>\n      <td>1</td>\n    </tr>\n    <tr>\n      <th>16</th>\n      <td>C190466</td>\n      <td>IM</td>\n      <td>3M</td>\n      <td>KHOLIFATUN NISA</td>\n      <td>2</td>\n    </tr>\n    <tr>\n      <th>17</th>\n      <td>C190467</td>\n      <td>IM</td>\n      <td>3M</td>\n      <td>呉　九門</td>\n      <td>3</td>\n    </tr>\n    <tr>\n      <th>18</th>\n      <td>C190470</td>\n      <td>IM</td>\n      <td>3M</td>\n      <td>黄　羽岑</td>\n      <td>4</td>\n    </tr>\n    <tr>\n      <th>19</th>\n      <td>C190475</td>\n      <td>IM</td>\n      <td>3M</td>\n      <td>江　玫衡</td>\n      <td>5</td>\n    </tr>\n    <tr>\n      <th>20</th>\n      <td>C190477</td>\n      <td>IM</td>\n      <td>3M</td>\n      <td>EPSON NGANGI</td>\n      <td>1</td>\n    </tr>\n    <tr>\n      <th>21</th>\n      <td>C190488</td>\n      <td>IM</td>\n      <td>3M</td>\n      <td>閻　恵鈺</td>\n      <td>2</td>\n    </tr>\n    <tr>\n      <th>22</th>\n      <td>C190492</td>\n      <td>IM</td>\n      <td>3M</td>\n      <td>于　金鑫</td>\n      <td>3</td>\n    </tr>\n    <tr>\n      <th>23</th>\n      <td>C190493</td>\n      <td>IM</td>\n      <td>3M</td>\n      <td>趙　子帰</td>\n      <td>4</td>\n    </tr>\n    <tr>\n      <th>24</th>\n      <td>C190495</td>\n      <td>IM</td>\n      <td>3M</td>\n      <td>薛　奥</td>\n      <td>5</td>\n    </tr>\n    <tr>\n      <th>25</th>\n      <td>C180101</td>\n      <td>IM</td>\n      <td>4M</td>\n      <td>NGUYEN TRUNG KIEN</td>\n      <td>1</td>\n    </tr>\n    <tr>\n      <th>26</th>\n      <td>C180103</td>\n      <td>IM</td>\n      <td>4M</td>\n      <td>NGUYEN HUNG THANH</td>\n      <td>2</td>\n    </tr>\n    <tr>\n      <th>27</th>\n      <td>C180118</td>\n      <td>IM</td>\n      <td>4M</td>\n      <td>PHAM THU THUY</td>\n      <td>3</td>\n    </tr>\n    <tr>\n      <th>28</th>\n      <td>C180131</td>\n      <td>IM</td>\n      <td>4M</td>\n      <td>TRUONG VAN LOI</td>\n      <td>4</td>\n    </tr>\n    <tr>\n      <th>29</th>\n      <td>C180137</td>\n      <td>IM</td>\n      <td>4M</td>\n      <td>ANG BRYAN CHRISTIAN DY TAN</td>\n      <td>5</td>\n    </tr>\n    <tr>\n      <th>30</th>\n      <td>C180143</td>\n      <td>IM</td>\n      <td>4M</td>\n      <td>TRAN HUE NGAN</td>\n      <td>1</td>\n    </tr>\n    <tr>\n      <th>31</th>\n      <td>C180159</td>\n      <td>IM</td>\n      <td>4M</td>\n      <td>GIAP VAN SANG</td>\n      <td>2</td>\n    </tr>\n    <tr>\n      <th>32</th>\n      <td>C180166</td>\n      <td>IM</td>\n      <td>4M</td>\n      <td>LE DINH MANH</td>\n      <td>3</td>\n    </tr>\n    <tr>\n      <th>33</th>\n      <td>C180189</td>\n      <td>IM</td>\n      <td>4M</td>\n      <td>李　博</td>\n      <td>4</td>\n    </tr>\n    <tr>\n      <th>34</th>\n      <td>C180209</td>\n      <td>IM</td>\n      <td>4M</td>\n      <td>TRAN THI UYEN CHI</td>\n      <td>5</td>\n    </tr>\n    <tr>\n      <th>35</th>\n      <td>C180210</td>\n      <td>IM</td>\n      <td>4M</td>\n      <td>NGUYEN NGOC SON</td>\n      <td>1</td>\n    </tr>\n    <tr>\n      <th>36</th>\n      <td>C180218</td>\n      <td>IM</td>\n      <td>4M</td>\n      <td>NGUYEN HUU THUC</td>\n      <td>2</td>\n    </tr>\n    <tr>\n      <th>37</th>\n      <td>C180233</td>\n      <td>IM</td>\n      <td>4M</td>\n      <td>MICHAEL PANGESTU</td>\n      <td>3</td>\n    </tr>\n    <tr>\n      <th>38</th>\n      <td>C180234</td>\n      <td>IM</td>\n      <td>4M</td>\n      <td>DOAN THI NGOC THUY</td>\n      <td>4</td>\n    </tr>\n    <tr>\n      <th>39</th>\n      <td>C180242</td>\n      <td>IM</td>\n      <td>4M</td>\n      <td>陸　銘</td>\n      <td>5</td>\n    </tr>\n    <tr>\n      <th>40</th>\n      <td>C180249</td>\n      <td>IM</td>\n      <td>4M</td>\n      <td>ISLAM MD RISUL</td>\n      <td>1</td>\n    </tr>\n    <tr>\n      <th>41</th>\n      <td>C180250</td>\n      <td>IM</td>\n      <td>4M</td>\n      <td>SU MON ZAW</td>\n      <td>2</td>\n    </tr>\n    <tr>\n      <th>42</th>\n      <td>C180258</td>\n      <td>IM</td>\n      <td>4M</td>\n      <td>NGUYEN THANH CONG</td>\n      <td>3</td>\n    </tr>\n    <tr>\n      <th>43</th>\n      <td>C180267</td>\n      <td>IM</td>\n      <td>4M</td>\n      <td>孫　靖康</td>\n      <td>4</td>\n    </tr>\n    <tr>\n      <th>44</th>\n      <td>C180277</td>\n      <td>IM</td>\n      <td>4M</td>\n      <td>趙　博雯</td>\n      <td>5</td>\n    </tr>\n    <tr>\n      <th>45</th>\n      <td>C180288</td>\n      <td>IM</td>\n      <td>4M</td>\n      <td>張　瑩</td>\n      <td>1</td>\n    </tr>\n    <tr>\n      <th>46</th>\n      <td>C180289</td>\n      <td>IM</td>\n      <td>4M</td>\n      <td>EI EI ZAW</td>\n      <td>2</td>\n    </tr>\n    <tr>\n      <th>47</th>\n      <td>C180291</td>\n      <td>IM</td>\n      <td>4M</td>\n      <td>劉　明研</td>\n      <td>3</td>\n    </tr>\n    <tr>\n      <th>48</th>\n      <td>C180292</td>\n      <td>IM</td>\n      <td>4M</td>\n      <td>金　永山</td>\n      <td>4</td>\n    </tr>\n    <tr>\n      <th>49</th>\n      <td>C180293</td>\n      <td>IM</td>\n      <td>4M</td>\n      <td>SOE SANDAR</td>\n      <td>5</td>\n    </tr>\n  </tbody>\n</table>\n</div>",
            "text/plain": "         ID FACULTY CLASS                        NAME  GROUP\n0   C180002      IW    2S                      髙見澤　弘和      1\n1   C180005      IW    2S                       弘中　哲哉      2\n2   C190314      IM    3M              NGUYEN THE ANH      3\n3   C190342      IM    3M                PHAM THI ANH      4\n4   C190348      IM    3M          CHAUDHARI DILLIRAJ      5\n5   C190353      IM    3M            NGUYEN CHI THANH      1\n6   C190370      IM    3M              TAMRAKAR BITTU      2\n7   C190396      IM    3M                 NWE NI HTWE      3\n8   C190402      IM    3M                GURUNG SUDIP      4\n9   C190403      IM    3M               KAUNG MYAT OO      5\n10  C190404      IM    3M                  YAMIN HTET      1\n11  C190415      IM    3M               PRABU PENDAWA      2\n12  C190439      IM    3M                 SAN YEE MOE      3\n13  C190452      IM    3M                 HEIN KO LAT      4\n14  C190455      IM    3M             AYE EAINDRA TUN      5\n15  C190465      IM    3M               SARI YULIANTI      1\n16  C190466      IM    3M             KHOLIFATUN NISA      2\n17  C190467      IM    3M                        呉　九門      3\n18  C190470      IM    3M                        黄　羽岑      4\n19  C190475      IM    3M                        江　玫衡      5\n20  C190477      IM    3M                EPSON NGANGI      1\n21  C190488      IM    3M                        閻　恵鈺      2\n22  C190492      IM    3M                        于　金鑫      3\n23  C190493      IM    3M                        趙　子帰      4\n24  C190495      IM    3M                         薛　奥      5\n25  C180101      IM    4M           NGUYEN TRUNG KIEN      1\n26  C180103      IM    4M           NGUYEN HUNG THANH      2\n27  C180118      IM    4M               PHAM THU THUY      3\n28  C180131      IM    4M              TRUONG VAN LOI      4\n29  C180137      IM    4M  ANG BRYAN CHRISTIAN DY TAN      5\n30  C180143      IM    4M               TRAN HUE NGAN      1\n31  C180159      IM    4M               GIAP VAN SANG      2\n32  C180166      IM    4M                LE DINH MANH      3\n33  C180189      IM    4M                         李　博      4\n34  C180209      IM    4M           TRAN THI UYEN CHI      5\n35  C180210      IM    4M             NGUYEN NGOC SON      1\n36  C180218      IM    4M             NGUYEN HUU THUC      2\n37  C180233      IM    4M            MICHAEL PANGESTU      3\n38  C180234      IM    4M          DOAN THI NGOC THUY      4\n39  C180242      IM    4M                         陸　銘      5\n40  C180249      IM    4M              ISLAM MD RISUL      1\n41  C180250      IM    4M                  SU MON ZAW      2\n42  C180258      IM    4M           NGUYEN THANH CONG      3\n43  C180267      IM    4M                        孫　靖康      4\n44  C180277      IM    4M                        趙　博雯      5\n45  C180288      IM    4M                         張　瑩      1\n46  C180289      IM    4M                   EI EI ZAW      2\n47  C180291      IM    4M                        劉　明研      3\n48  C180292      IM    4M                        金　永山      4\n49  C180293      IM    4M                  SOE SANDAR      5"
          },
          "metadata": {}
        }
      ]
    },
    {
      "metadata": {},
      "cell_type": "markdown",
      "source": "DataFrameは、必ずindex（左端の列）がある。このindexを参照すると、データを操作することができる。\n\n上の例では、csvファイルを読み取る際に、どの列がindexであるかを指定していないので、左端にindex（0から始まる番号)が付加された。\n\nしかし、ICT2019.csvを見ると、既にIDという列が存在し、各行を識別することができる一意(unique)の番号が各行に付けられているので、新たにindexを付加する必要がない。\n\nその場合、index_col = 'ID'のようにindexとして用いる列の名前' をpd.read_csvの引数に指定することによって、indexは付加されない。\n\nDataFrameは、出力フォーマットが整っていて、データを可視化するときに便利である。\n"
    },
    {
      "metadata": {
        "trusted": true
      },
      "cell_type": "code",
      "source": "ict2019_2 = pd.read_csv('ICT2019.csv', index_col = 'ID')\nict2019_2",
      "execution_count": 84,
      "outputs": [
        {
          "output_type": "execute_result",
          "execution_count": 84,
          "data": {
            "text/html": "<div>\n<style scoped>\n    .dataframe tbody tr th:only-of-type {\n        vertical-align: middle;\n    }\n\n    .dataframe tbody tr th {\n        vertical-align: top;\n    }\n\n    .dataframe thead th {\n        text-align: right;\n    }\n</style>\n<table border=\"1\" class=\"dataframe\">\n  <thead>\n    <tr style=\"text-align: right;\">\n      <th></th>\n      <th>FACULTY</th>\n      <th>CLASS</th>\n      <th>NAME</th>\n      <th>GROUP</th>\n    </tr>\n    <tr>\n      <th>ID</th>\n      <th></th>\n      <th></th>\n      <th></th>\n      <th></th>\n    </tr>\n  </thead>\n  <tbody>\n    <tr>\n      <th>C180002</th>\n      <td>IW</td>\n      <td>2S</td>\n      <td>髙見澤　弘和</td>\n      <td>1</td>\n    </tr>\n    <tr>\n      <th>C180005</th>\n      <td>IW</td>\n      <td>2S</td>\n      <td>弘中　哲哉</td>\n      <td>2</td>\n    </tr>\n    <tr>\n      <th>C190314</th>\n      <td>IM</td>\n      <td>3M</td>\n      <td>NGUYEN THE ANH</td>\n      <td>3</td>\n    </tr>\n    <tr>\n      <th>C190342</th>\n      <td>IM</td>\n      <td>3M</td>\n      <td>PHAM THI ANH</td>\n      <td>4</td>\n    </tr>\n    <tr>\n      <th>C190348</th>\n      <td>IM</td>\n      <td>3M</td>\n      <td>CHAUDHARI DILLIRAJ</td>\n      <td>5</td>\n    </tr>\n    <tr>\n      <th>C190353</th>\n      <td>IM</td>\n      <td>3M</td>\n      <td>NGUYEN CHI THANH</td>\n      <td>1</td>\n    </tr>\n    <tr>\n      <th>C190370</th>\n      <td>IM</td>\n      <td>3M</td>\n      <td>TAMRAKAR BITTU</td>\n      <td>2</td>\n    </tr>\n    <tr>\n      <th>C190396</th>\n      <td>IM</td>\n      <td>3M</td>\n      <td>NWE NI HTWE</td>\n      <td>3</td>\n    </tr>\n    <tr>\n      <th>C190402</th>\n      <td>IM</td>\n      <td>3M</td>\n      <td>GURUNG SUDIP</td>\n      <td>4</td>\n    </tr>\n    <tr>\n      <th>C190403</th>\n      <td>IM</td>\n      <td>3M</td>\n      <td>KAUNG MYAT OO</td>\n      <td>5</td>\n    </tr>\n    <tr>\n      <th>C190404</th>\n      <td>IM</td>\n      <td>3M</td>\n      <td>YAMIN HTET</td>\n      <td>1</td>\n    </tr>\n    <tr>\n      <th>C190415</th>\n      <td>IM</td>\n      <td>3M</td>\n      <td>PRABU PENDAWA</td>\n      <td>2</td>\n    </tr>\n    <tr>\n      <th>C190439</th>\n      <td>IM</td>\n      <td>3M</td>\n      <td>SAN YEE MOE</td>\n      <td>3</td>\n    </tr>\n    <tr>\n      <th>C190452</th>\n      <td>IM</td>\n      <td>3M</td>\n      <td>HEIN KO LAT</td>\n      <td>4</td>\n    </tr>\n    <tr>\n      <th>C190455</th>\n      <td>IM</td>\n      <td>3M</td>\n      <td>AYE EAINDRA TUN</td>\n      <td>5</td>\n    </tr>\n    <tr>\n      <th>C190465</th>\n      <td>IM</td>\n      <td>3M</td>\n      <td>SARI YULIANTI</td>\n      <td>1</td>\n    </tr>\n    <tr>\n      <th>C190466</th>\n      <td>IM</td>\n      <td>3M</td>\n      <td>KHOLIFATUN NISA</td>\n      <td>2</td>\n    </tr>\n    <tr>\n      <th>C190467</th>\n      <td>IM</td>\n      <td>3M</td>\n      <td>呉　九門</td>\n      <td>3</td>\n    </tr>\n    <tr>\n      <th>C190470</th>\n      <td>IM</td>\n      <td>3M</td>\n      <td>黄　羽岑</td>\n      <td>4</td>\n    </tr>\n    <tr>\n      <th>C190475</th>\n      <td>IM</td>\n      <td>3M</td>\n      <td>江　玫衡</td>\n      <td>5</td>\n    </tr>\n    <tr>\n      <th>C190477</th>\n      <td>IM</td>\n      <td>3M</td>\n      <td>EPSON NGANGI</td>\n      <td>1</td>\n    </tr>\n    <tr>\n      <th>C190488</th>\n      <td>IM</td>\n      <td>3M</td>\n      <td>閻　恵鈺</td>\n      <td>2</td>\n    </tr>\n    <tr>\n      <th>C190492</th>\n      <td>IM</td>\n      <td>3M</td>\n      <td>于　金鑫</td>\n      <td>3</td>\n    </tr>\n    <tr>\n      <th>C190493</th>\n      <td>IM</td>\n      <td>3M</td>\n      <td>趙　子帰</td>\n      <td>4</td>\n    </tr>\n    <tr>\n      <th>C190495</th>\n      <td>IM</td>\n      <td>3M</td>\n      <td>薛　奥</td>\n      <td>5</td>\n    </tr>\n    <tr>\n      <th>C180101</th>\n      <td>IM</td>\n      <td>4M</td>\n      <td>NGUYEN TRUNG KIEN</td>\n      <td>1</td>\n    </tr>\n    <tr>\n      <th>C180103</th>\n      <td>IM</td>\n      <td>4M</td>\n      <td>NGUYEN HUNG THANH</td>\n      <td>2</td>\n    </tr>\n    <tr>\n      <th>C180118</th>\n      <td>IM</td>\n      <td>4M</td>\n      <td>PHAM THU THUY</td>\n      <td>3</td>\n    </tr>\n    <tr>\n      <th>C180131</th>\n      <td>IM</td>\n      <td>4M</td>\n      <td>TRUONG VAN LOI</td>\n      <td>4</td>\n    </tr>\n    <tr>\n      <th>C180137</th>\n      <td>IM</td>\n      <td>4M</td>\n      <td>ANG BRYAN CHRISTIAN DY TAN</td>\n      <td>5</td>\n    </tr>\n    <tr>\n      <th>C180143</th>\n      <td>IM</td>\n      <td>4M</td>\n      <td>TRAN HUE NGAN</td>\n      <td>1</td>\n    </tr>\n    <tr>\n      <th>C180159</th>\n      <td>IM</td>\n      <td>4M</td>\n      <td>GIAP VAN SANG</td>\n      <td>2</td>\n    </tr>\n    <tr>\n      <th>C180166</th>\n      <td>IM</td>\n      <td>4M</td>\n      <td>LE DINH MANH</td>\n      <td>3</td>\n    </tr>\n    <tr>\n      <th>C180189</th>\n      <td>IM</td>\n      <td>4M</td>\n      <td>李　博</td>\n      <td>4</td>\n    </tr>\n    <tr>\n      <th>C180209</th>\n      <td>IM</td>\n      <td>4M</td>\n      <td>TRAN THI UYEN CHI</td>\n      <td>5</td>\n    </tr>\n    <tr>\n      <th>C180210</th>\n      <td>IM</td>\n      <td>4M</td>\n      <td>NGUYEN NGOC SON</td>\n      <td>1</td>\n    </tr>\n    <tr>\n      <th>C180218</th>\n      <td>IM</td>\n      <td>4M</td>\n      <td>NGUYEN HUU THUC</td>\n      <td>2</td>\n    </tr>\n    <tr>\n      <th>C180233</th>\n      <td>IM</td>\n      <td>4M</td>\n      <td>MICHAEL PANGESTU</td>\n      <td>3</td>\n    </tr>\n    <tr>\n      <th>C180234</th>\n      <td>IM</td>\n      <td>4M</td>\n      <td>DOAN THI NGOC THUY</td>\n      <td>4</td>\n    </tr>\n    <tr>\n      <th>C180242</th>\n      <td>IM</td>\n      <td>4M</td>\n      <td>陸　銘</td>\n      <td>5</td>\n    </tr>\n    <tr>\n      <th>C180249</th>\n      <td>IM</td>\n      <td>4M</td>\n      <td>ISLAM MD RISUL</td>\n      <td>1</td>\n    </tr>\n    <tr>\n      <th>C180250</th>\n      <td>IM</td>\n      <td>4M</td>\n      <td>SU MON ZAW</td>\n      <td>2</td>\n    </tr>\n    <tr>\n      <th>C180258</th>\n      <td>IM</td>\n      <td>4M</td>\n      <td>NGUYEN THANH CONG</td>\n      <td>3</td>\n    </tr>\n    <tr>\n      <th>C180267</th>\n      <td>IM</td>\n      <td>4M</td>\n      <td>孫　靖康</td>\n      <td>4</td>\n    </tr>\n    <tr>\n      <th>C180277</th>\n      <td>IM</td>\n      <td>4M</td>\n      <td>趙　博雯</td>\n      <td>5</td>\n    </tr>\n    <tr>\n      <th>C180288</th>\n      <td>IM</td>\n      <td>4M</td>\n      <td>張　瑩</td>\n      <td>1</td>\n    </tr>\n    <tr>\n      <th>C180289</th>\n      <td>IM</td>\n      <td>4M</td>\n      <td>EI EI ZAW</td>\n      <td>2</td>\n    </tr>\n    <tr>\n      <th>C180291</th>\n      <td>IM</td>\n      <td>4M</td>\n      <td>劉　明研</td>\n      <td>3</td>\n    </tr>\n    <tr>\n      <th>C180292</th>\n      <td>IM</td>\n      <td>4M</td>\n      <td>金　永山</td>\n      <td>4</td>\n    </tr>\n    <tr>\n      <th>C180293</th>\n      <td>IM</td>\n      <td>4M</td>\n      <td>SOE SANDAR</td>\n      <td>5</td>\n    </tr>\n  </tbody>\n</table>\n</div>",
            "text/plain": "        FACULTY CLASS                        NAME  GROUP\nID                                                      \nC180002      IW    2S                      髙見澤　弘和      1\nC180005      IW    2S                       弘中　哲哉      2\nC190314      IM    3M              NGUYEN THE ANH      3\nC190342      IM    3M                PHAM THI ANH      4\nC190348      IM    3M          CHAUDHARI DILLIRAJ      5\nC190353      IM    3M            NGUYEN CHI THANH      1\nC190370      IM    3M              TAMRAKAR BITTU      2\nC190396      IM    3M                 NWE NI HTWE      3\nC190402      IM    3M                GURUNG SUDIP      4\nC190403      IM    3M               KAUNG MYAT OO      5\nC190404      IM    3M                  YAMIN HTET      1\nC190415      IM    3M               PRABU PENDAWA      2\nC190439      IM    3M                 SAN YEE MOE      3\nC190452      IM    3M                 HEIN KO LAT      4\nC190455      IM    3M             AYE EAINDRA TUN      5\nC190465      IM    3M               SARI YULIANTI      1\nC190466      IM    3M             KHOLIFATUN NISA      2\nC190467      IM    3M                        呉　九門      3\nC190470      IM    3M                        黄　羽岑      4\nC190475      IM    3M                        江　玫衡      5\nC190477      IM    3M                EPSON NGANGI      1\nC190488      IM    3M                        閻　恵鈺      2\nC190492      IM    3M                        于　金鑫      3\nC190493      IM    3M                        趙　子帰      4\nC190495      IM    3M                         薛　奥      5\nC180101      IM    4M           NGUYEN TRUNG KIEN      1\nC180103      IM    4M           NGUYEN HUNG THANH      2\nC180118      IM    4M               PHAM THU THUY      3\nC180131      IM    4M              TRUONG VAN LOI      4\nC180137      IM    4M  ANG BRYAN CHRISTIAN DY TAN      5\nC180143      IM    4M               TRAN HUE NGAN      1\nC180159      IM    4M               GIAP VAN SANG      2\nC180166      IM    4M                LE DINH MANH      3\nC180189      IM    4M                         李　博      4\nC180209      IM    4M           TRAN THI UYEN CHI      5\nC180210      IM    4M             NGUYEN NGOC SON      1\nC180218      IM    4M             NGUYEN HUU THUC      2\nC180233      IM    4M            MICHAEL PANGESTU      3\nC180234      IM    4M          DOAN THI NGOC THUY      4\nC180242      IM    4M                         陸　銘      5\nC180249      IM    4M              ISLAM MD RISUL      1\nC180250      IM    4M                  SU MON ZAW      2\nC180258      IM    4M           NGUYEN THANH CONG      3\nC180267      IM    4M                        孫　靖康      4\nC180277      IM    4M                        趙　博雯      5\nC180288      IM    4M                         張　瑩      1\nC180289      IM    4M                   EI EI ZAW      2\nC180291      IM    4M                        劉　明研      3\nC180292      IM    4M                        金　永山      4\nC180293      IM    4M                  SOE SANDAR      5"
          },
          "metadata": {}
        }
      ]
    },
    {
      "metadata": {},
      "cell_type": "markdown",
      "source": "#### 様々なcsvファイルを作成し、そのファイルをDataFrameに読み込みなさい。"
    },
    {
      "metadata": {},
      "cell_type": "markdown",
      "source": "csvファイルに記録されているデータが何万行にもわたる場合、ict2019_1のようにDataFrane名を指定すると、Notebookの中に何万行も出力されることになる。そこで、ファイルが正常に読み込まれたかどうかを確認するためには、head()メソッドを用いることによって、先頭から指定した行数だけを表示させることができる。なお、head(n)のnを省略したとき、head(5)が実行される。"
    },
    {
      "metadata": {
        "trusted": true
      },
      "cell_type": "code",
      "source": "ict2019_1.head(5)",
      "execution_count": 88,
      "outputs": [
        {
          "output_type": "execute_result",
          "execution_count": 88,
          "data": {
            "text/html": "<div>\n<style scoped>\n    .dataframe tbody tr th:only-of-type {\n        vertical-align: middle;\n    }\n\n    .dataframe tbody tr th {\n        vertical-align: top;\n    }\n\n    .dataframe thead th {\n        text-align: right;\n    }\n</style>\n<table border=\"1\" class=\"dataframe\">\n  <thead>\n    <tr style=\"text-align: right;\">\n      <th></th>\n      <th>ID</th>\n      <th>FACULTY</th>\n      <th>CLASS</th>\n      <th>NAME</th>\n      <th>GROUP</th>\n    </tr>\n  </thead>\n  <tbody>\n    <tr>\n      <th>0</th>\n      <td>C180002</td>\n      <td>IW</td>\n      <td>2S</td>\n      <td>髙見澤　弘和</td>\n      <td>1</td>\n    </tr>\n    <tr>\n      <th>1</th>\n      <td>C180005</td>\n      <td>IW</td>\n      <td>2S</td>\n      <td>弘中　哲哉</td>\n      <td>2</td>\n    </tr>\n    <tr>\n      <th>2</th>\n      <td>C190314</td>\n      <td>IM</td>\n      <td>3M</td>\n      <td>NGUYEN THE ANH</td>\n      <td>3</td>\n    </tr>\n    <tr>\n      <th>3</th>\n      <td>C190342</td>\n      <td>IM</td>\n      <td>3M</td>\n      <td>PHAM THI ANH</td>\n      <td>4</td>\n    </tr>\n    <tr>\n      <th>4</th>\n      <td>C190348</td>\n      <td>IM</td>\n      <td>3M</td>\n      <td>CHAUDHARI DILLIRAJ</td>\n      <td>5</td>\n    </tr>\n  </tbody>\n</table>\n</div>",
            "text/plain": "        ID FACULTY CLASS                NAME  GROUP\n0  C180002      IW    2S              髙見澤　弘和      1\n1  C180005      IW    2S               弘中　哲哉      2\n2  C190314      IM    3M      NGUYEN THE ANH      3\n3  C190342      IM    3M        PHAM THI ANH      4\n4  C190348      IM    3M  CHAUDHARI DILLIRAJ      5"
          },
          "metadata": {}
        }
      ]
    },
    {
      "metadata": {},
      "cell_type": "markdown",
      "source": "DataFrameを用いることによって、行・列を指定して要素を選択・取得・変更することができる。授業では必要に応じて紹介するが、興味のある人は自分で調べること。"
    },
    {
      "metadata": {},
      "cell_type": "markdown",
      "source": "### 時系列データ\n\nデータ分析の対象となるデータが時系列(time-series)データであることはよくある。たとえば、サーバのlogデータはイベントの発生時間順に記録されている。DataFrameにおいて時系列データを扱う場合、indexに時間系列を与えるとデータ操作が容易になる。"
    },
    {
      "metadata": {
        "trusted": true
      },
      "cell_type": "code",
      "source": "import pandas as pd\n\n# nobs は、発生させるデータの個数\n# 2019-01-01 09:10:00 は、時間系列の開始時刻\n# periodsは、freqで指定した時間間隔で発生するデータの数\n# freqは、時間間隔。'N'はナノ秒、'H'は１時間、'D'は1日、'W'は週、'M'は月、'Y'は年などを表す。\n\nnobs = 8\nts = pd.date_range('2019-01-01 09:10:00', periods = nobs, freq = 'M')\nts",
      "execution_count": 2,
      "outputs": [
        {
          "output_type": "execute_result",
          "execution_count": 2,
          "data": {
            "text/plain": "DatetimeIndex(['2019-01-31 09:10:00', '2019-02-28 09:10:00',\n               '2019-03-31 09:10:00', '2019-04-30 09:10:00',\n               '2019-05-31 09:10:00', '2019-06-30 09:10:00',\n               '2019-07-31 09:10:00', '2019-08-31 09:10:00'],\n              dtype='datetime64[ns]', freq='M')"
          },
          "metadata": {}
        }
      ]
    },
    {
      "metadata": {
        "trusted": true
      },
      "cell_type": "code",
      "source": "import numpy as np\n\ny0 = np.random.normal(loc = 1.5, scale = 2.0, size = nobs)\ny = pd.Series(y0, index = ts)\ny",
      "execution_count": 4,
      "outputs": [
        {
          "output_type": "execute_result",
          "execution_count": 4,
          "data": {
            "text/plain": "2019-01-31 09:10:00    2.994238\n2019-02-28 09:10:00    4.364303\n2019-03-31 09:10:00    1.658219\n2019-04-30 09:10:00    0.466190\n2019-05-31 09:10:00   -2.074819\n2019-06-30 09:10:00    2.296982\n2019-07-31 09:10:00    1.860502\n2019-08-31 09:10:00    0.098062\nFreq: M, dtype: float64"
          },
          "metadata": {}
        }
      ]
    },
    {
      "metadata": {},
      "cell_type": "markdown",
      "source": "### グラフ作成\n\nグラフを作成するパッケージには、\n\n- matplotlib\n- pandas\n- seaborn\n- mixtend\n\nなどがある。matplotlibとpandasが最も広く用いられている。\n"
    },
    {
      "metadata": {},
      "cell_type": "markdown",
      "source": "#### matplotlib\n\nmatplotlibを用いると、複数のグラフを描くことができる。このとき、figureは、図全体を意味し、axesは、figureの内部にある座標軸系を意味する。1つのfigureに対して、複数の座標軸系を配置することもできる。\n\n配置のバリエーションとして、\n\n- 一つのグラフに一つの座標軸があり、複数のプロットを描く\n- 一つのグラフに複数の座標軸があり、座標軸ごとに一つのプロットを描く\n\nなどがある。\n\n"
    },
    {
      "metadata": {
        "trusted": true
      },
      "cell_type": "markdown",
      "source": "##### 一つのグラフに複数のプロット\n\n\n各自パラメータを変更して様々なグラフを描画しなさい\n"
    },
    {
      "metadata": {
        "trusted": true
      },
      "cell_type": "code",
      "source": "import numpy as np\nimport matplotlib.pyplot as plt\n# from matplotlib import pyplot as plt\n%matplotlib inline\n\nx = np.linspace(-3, 3, 20)\ny1 = x\ny2 = x ** 2\ny3 = x ** 3\ny4 = x ** 4\n\nfig = plt.subplots(figsize = (10, 3)) \n#plt.plot(x, y1)\nplt.plot(x, y2)\nplt.plot(x, y3)\nplt.plot(x, y4)\n\nplt.grid()\nplt.xlabel('x')\nplt.ylabel('y')\nplt.title('Example')\n",
      "execution_count": 16,
      "outputs": [
        {
          "output_type": "execute_result",
          "execution_count": 16,
          "data": {
            "text/plain": "Text(0.5, 1.0, 'Example')"
          },
          "metadata": {}
        },
        {
          "output_type": "display_data",
          "data": {
            "image/png": "[encoded data removed]",
            "text/plain": "<Figure size 720x216 with 1 Axes>"
          },
          "metadata": {
            "needs_background": "light"
          }
        }
      ]
    },
    {
      "metadata": {},
      "cell_type": "markdown",
      "source": "#### 私の推奨する勉強の方法\n##### たとえば、上のプロットのコードを見たとき、教科書を参照して、どの関数がどんな動作をするか、を１つずつ調べるというやり方よりも、上述の関数のいずれかをコメントアウトしたり、関数の引数の値を変更したりすると、手と頭の両方を使ってプログラミングスキルを身に付けることができる（と私は思う）。\n"
    },
    {
      "metadata": {},
      "cell_type": "markdown",
      "source": "##### 一つのグラフに四つの座標軸を描く\nデータ分析のレポートを作成・提出するとき、グラフはとても重要な役割を果たす。上の例のように、１つの座標軸に複数のプロットを描くこともあるが、複数の座標軸を並べて表示することによって、分析結果をより明瞭に示すことができる場合もある。用語を統一すると、上の例では、１つのグラフに１つの座標軸があり、１つの座標軸の中に４つのプロットが存在する。これに対して、１つのグラフに４つの座標軸を描き、１つの座標軸に１つのプロットを描くこともできる。\n"
    },
    {
      "metadata": {
        "trusted": true
      },
      "cell_type": "code",
      "source": "# 方法１\nfig, axs = plt.subplots(nrows = 2, ncols = 2, figsize = (6, 4))\naxs[0, 0].plot(x, y1)\naxs[0, 1].plot(x, y2)\naxs[1, 0].plot(x, y3)\naxs[1, 1].plot(x, y4)",
      "execution_count": 15,
      "outputs": [
        {
          "output_type": "execute_result",
          "execution_count": 15,
          "data": {
            "text/plain": "[<matplotlib.lines.Line2D at 0x7f8bcacba908>]"
          },
          "metadata": {}
        },
        {
          "output_type": "display_data",
          "data": {
            "image/png": "[encoded data removed]",
            "text/plain": "<Figure size 432x288 with 4 Axes>"
          },
          "metadata": {
            "needs_background": "light"
          }
        }
      ]
    },
    {
      "metadata": {
        "trusted": true
      },
      "cell_type": "code",
      "source": "# 表示された図をsaving関数を用いてファイルに保存する\n# FLAG_fig が True のとき、図がファイルに保存されることにする\n\nFLAG_fig = True\n\nfig, axs = plt.subplots(nrows = 2, ncols = 2, figsize = (6, 4))\naxs[0, 0].plot(x, y1)\naxs[0, 1].plot(x, y2)\naxs[1, 0].plot(x, y3)\naxs[1, 1].plot(x, y4)\n\nif FLAG_fig:\n    plt.tight_layout()\n    plt.savefig('fig_PLT_MultipleGraph_1.png')\nplt.show()",
      "execution_count": 28,
      "outputs": [
        {
          "output_type": "display_data",
          "data": {
            "image/png": "[encoded data removed]",
            "text/plain": "<Figure size 432x288 with 4 Axes>"
          },
          "metadata": {
            "needs_background": "light"
          }
        }
      ]
    },
    {
      "metadata": {
        "trusted": true
      },
      "cell_type": "code",
      "source": "# グラフが保存されたかどうかを確認するために、各自!ls を実行してみよう\n\n",
      "execution_count": 1,
      "outputs": []
    },
    {
      "metadata": {
        "trusted": true
      },
      "cell_type": "code",
      "source": "# １つのグラフに４つの座標軸を描く方法２\nfig, ((ax1, ax2), (ax3, ax4)) = plt.subplots(nrows=2, ncols=2, figsize=(6,4))\n\nax1.plot(x, y1) # upper left\nax2.plot(x, y2) # upper right\nax3.plot(x, y3) # lower left\nax4.plot(x, y4) # lower right",
      "execution_count": 18,
      "outputs": [
        {
          "output_type": "execute_result",
          "execution_count": 18,
          "data": {
            "text/plain": "[<matplotlib.lines.Line2D at 0x7f8bcb463278>]"
          },
          "metadata": {}
        },
        {
          "output_type": "display_data",
          "data": {
            "image/png": "[encoded data removed]",
            "text/plain": "<Figure size 432x288 with 4 Axes>"
          },
          "metadata": {
            "needs_background": "light"
          }
        }
      ]
    },
    {
      "metadata": {},
      "cell_type": "markdown",
      "source": "### Titanicデータのプロット\n\nTitanic号の沈没事故において生存した乗客に関するデータがある。\n\nオリジナルデータは、Kaggleから入手できる。Kaggleには、機械学習において最も重要である各種のデータセットが用意されている。今回もTitanic号のデータは、Kaggleからダウンロードした。このように、インターネット上には、様々なデータが利用可能な状態で公開されている。いくつかの信頼できるサイトが知られており、世界中の研究者やエンジニアがこれらのサイトを利用している。\n\nさて、今回ダウンロードしたデータには欠損値(missing value)が含まれていた。そこで、これらの欠損値を補ったファイルを(titanic.csv)を準備した。このデータを使っていくつかの図をプロットしよう。\n"
    },
    {
      "metadata": {
        "trusted": true
      },
      "cell_type": "code",
      "source": "import numpy as np\nimport pandas as pd\nfrom matplotlib import pyplot as plt\n%matplotlib inline\n\ndf = pd.read_csv('titanic.csv')\ndf.head()",
      "execution_count": 3,
      "outputs": [
        {
          "output_type": "execute_result",
          "execution_count": 3,
          "data": {
            "text/html": "<div>\n<style scoped>\n    .dataframe tbody tr th:only-of-type {\n        vertical-align: middle;\n    }\n\n    .dataframe tbody tr th {\n        vertical-align: top;\n    }\n\n    .dataframe thead th {\n        text-align: right;\n    }\n</style>\n<table border=\"1\" class=\"dataframe\">\n  <thead>\n    <tr style=\"text-align: right;\">\n      <th></th>\n      <th>Unnamed: 0</th>\n      <th>PassengerId</th>\n      <th>Survived</th>\n      <th>Pclass</th>\n      <th>Name</th>\n      <th>Sex</th>\n      <th>Age</th>\n      <th>SibSp</th>\n      <th>Parch</th>\n      <th>Ticket</th>\n      <th>Fare</th>\n      <th>Cabin</th>\n      <th>Embarked</th>\n    </tr>\n  </thead>\n  <tbody>\n    <tr>\n      <th>0</th>\n      <td>0</td>\n      <td>1</td>\n      <td>0</td>\n      <td>3</td>\n      <td>Braund, Mr. Owen Harris</td>\n      <td>male</td>\n      <td>22.0</td>\n      <td>1</td>\n      <td>0</td>\n      <td>A/5 21171</td>\n      <td>7.2500</td>\n      <td>NaN</td>\n      <td>S</td>\n    </tr>\n    <tr>\n      <th>1</th>\n      <td>1</td>\n      <td>2</td>\n      <td>1</td>\n      <td>1</td>\n      <td>Cumings, Mrs. John Bradley (Florence Briggs Th...</td>\n      <td>female</td>\n      <td>38.0</td>\n      <td>1</td>\n      <td>0</td>\n      <td>PC 17599</td>\n      <td>71.2833</td>\n      <td>C85</td>\n      <td>C</td>\n    </tr>\n    <tr>\n      <th>2</th>\n      <td>2</td>\n      <td>3</td>\n      <td>1</td>\n      <td>3</td>\n      <td>Heikkinen, Miss. Laina</td>\n      <td>female</td>\n      <td>26.0</td>\n      <td>0</td>\n      <td>0</td>\n      <td>STON/O2. 3101282</td>\n      <td>7.9250</td>\n      <td>NaN</td>\n      <td>S</td>\n    </tr>\n    <tr>\n      <th>3</th>\n      <td>3</td>\n      <td>4</td>\n      <td>1</td>\n      <td>1</td>\n      <td>Futrelle, Mrs. Jacques Heath (Lily May Peel)</td>\n      <td>female</td>\n      <td>35.0</td>\n      <td>1</td>\n      <td>0</td>\n      <td>113803</td>\n      <td>53.1000</td>\n      <td>C123</td>\n      <td>S</td>\n    </tr>\n    <tr>\n      <th>4</th>\n      <td>4</td>\n      <td>5</td>\n      <td>0</td>\n      <td>3</td>\n      <td>Allen, Mr. William Henry</td>\n      <td>male</td>\n      <td>35.0</td>\n      <td>0</td>\n      <td>0</td>\n      <td>373450</td>\n      <td>8.0500</td>\n      <td>NaN</td>\n      <td>S</td>\n    </tr>\n  </tbody>\n</table>\n</div>",
            "text/plain": "   Unnamed: 0  PassengerId  Survived  Pclass  \\\n0           0            1         0       3   \n1           1            2         1       1   \n2           2            3         1       3   \n3           3            4         1       1   \n4           4            5         0       3   \n\n                                                Name     Sex   Age  SibSp  \\\n0                            Braund, Mr. Owen Harris    male  22.0      1   \n1  Cumings, Mrs. John Bradley (Florence Briggs Th...  female  38.0      1   \n2                             Heikkinen, Miss. Laina  female  26.0      0   \n3       Futrelle, Mrs. Jacques Heath (Lily May Peel)  female  35.0      1   \n4                           Allen, Mr. William Henry    male  35.0      0   \n\n   Parch            Ticket     Fare Cabin Embarked  \n0      0         A/5 21171   7.2500   NaN        S  \n1      0          PC 17599  71.2833   C85        C  \n2      0  STON/O2. 3101282   7.9250   NaN        S  \n3      0            113803  53.1000  C123        S  \n4      0            373450   8.0500   NaN        S  "
          },
          "metadata": {}
        }
      ]
    },
    {
      "metadata": {},
      "cell_type": "markdown",
      "source": "#### titanicデータの説明\n\nPassengerID:　乗客ID\n\nSurvived: 　　生存結果 (1: 生存, 2: 死亡)　\n\nPclass: 　　　乗客の階級 1が一番位が高いそう\n\nName: 　　 　乗客の名前\n\nSex: 　　　　 性別\n\nAge: 　　　　 年齢\n\nSibSp 　　 　 兄弟、配偶者の数。\n\nParch 　　　　両親、子供の数。\n\nTicket 　　　 チケット番号。\n\nFare 　　　　 乗船料金。\n\nCabin 　　　　部屋番号\n\nEmbarked 　　 乗船した港　Cherbourg、Queenstown、Southamptonの３種類"
    },
    {
      "metadata": {
        "trusted": true
      },
      "cell_type": "markdown",
      "source": "#### Titanic号乗客年齢構成\n\n１．乗客の年齢構成をヒストグラムで表示\nDataFrameのhistを用いる方法と、matplotlibのhistを用いる方法とがある。"
    },
    {
      "metadata": {
        "trusted": true
      },
      "cell_type": "code",
      "source": "# DataFrameのhistを利用\nhist = df['Age'].hist(bins=16)\n\n",
      "execution_count": 7,
      "outputs": [
        {
          "output_type": "display_data",
          "data": {
            "image/png": "[encoded data removed]",
            "text/plain": "<Figure size 432x288 with 1 Axes>"
          },
          "metadata": {
            "needs_background": "light"
          }
        }
      ]
    },
    {
      "metadata": {
        "trusted": true
      },
      "cell_type": "code",
      "source": "# matplotlibのhistを利用\nplt.hist(df['Age'], bins = 16)",
      "execution_count": 8,
      "outputs": [
        {
          "output_type": "execute_result",
          "execution_count": 8,
          "data": {
            "text/plain": "(array([ 44.,  20.,  19.,  96., 122., 285.,  88.,  67.,  47.,  39.,  24.,\n         18.,  14.,   3.,   4.,   1.]),\n array([ 0.42   ,  5.39375, 10.3675 , 15.34125, 20.315  , 25.28875,\n        30.2625 , 35.23625, 40.21   , 45.18375, 50.1575 , 55.13125,\n        60.105  , 65.07875, 70.0525 , 75.02625, 80.     ]),\n <a list of 16 Patch objects>)"
          },
          "metadata": {}
        },
        {
          "output_type": "display_data",
          "data": {
            "image/png": "[encoded data removed]",
            "text/plain": "<Figure size 432x288 with 1 Axes>"
          },
          "metadata": {
            "needs_background": "light"
          }
        }
      ]
    },
    {
      "metadata": {},
      "cell_type": "markdown",
      "source": "２．　乗客の年齢構成を円グラフで表示"
    },
    {
      "metadata": {
        "trusted": true
      },
      "cell_type": "code",
      "source": "#　年齢構成を調べよう\n\nage1 = (df['Age'] < 15).sum()\nage2 = ( (df['Age'] >= 15) & (df['Age'] < 60) ).sum()\nage3 = (df['Age'] >= 60).sum()\nprint(age1, age2, age3, (age1+age2+age3))",
      "execution_count": 49,
      "outputs": [
        {
          "output_type": "stream",
          "text": "78 787 26 891\n",
          "name": "stdout"
        }
      ]
    },
    {
      "metadata": {
        "trusted": true
      },
      "cell_type": "code",
      "source": "series = pd.Series([age1, age2, age3], index=['Child', 'Adult', 'Elderly'], name='Age')\nseries.plot.pie(figsize=(4, 4))\n\n#  プロットをファイルに書き込むならば、\n# plt.savefig('fig_PLT_Titanic_pie_01.png')\nplt.show()",
      "execution_count": 50,
      "outputs": [
        {
          "output_type": "display_data",
          "data": {
            "image/png": "[encoded data removed]",
            "text/plain": "<Figure size 288x288 with 1 Axes>"
          },
          "metadata": {}
        }
      ]
    },
    {
      "metadata": {},
      "cell_type": "markdown",
      "source": "### 練習問題\n#### 上の例では、乗客の年齢構成は、Childが78人、Elderlyが26人、Adultが787人であることが示されているが、ほとんどの乗客がAdultに分類されている。そこで、年齢構成を0から9歳、10歳から19歳、20際から29歳、30歳から39歳、40歳から49歳、50歳から59歳、60歳以上に分類して再調査し、円グラフで表示しなさい。\n\n#### 円グラフの解答例 \n\n<img src = 'titanic_pie_chart_02.png'>\n"
    },
    {
      "metadata": {},
      "cell_type": "markdown",
      "source": "男女別に生存のクロス集計（cross tabulation）を見る"
    },
    {
      "metadata": {
        "trusted": true
      },
      "cell_type": "code",
      "source": "cross_01 = df.pivot_table(index=['Survived'], columns=['Sex'], values=['PassengerId'], aggfunc='count', fill_value=0)\nprint(cross_01)",
      "execution_count": 22,
      "outputs": [
        {
          "output_type": "stream",
          "text": "         PassengerId     \nSex           female male\nSurvived                 \n0                 81  468\n1                233  109\n",
          "name": "stdout"
        }
      ]
    },
    {
      "metadata": {},
      "cell_type": "markdown",
      "source": "#### クロス表の読み方\n\n上のクロス表は、乗客(passenger)を性別(sex)×生存(survived)の組み合わせで分類して人数を記載した表です。\n女性×非生存者=81人、男性×生存者=109人などのように読むことができます。\n\n"
    },
    {
      "metadata": {
        "trusted": true
      },
      "cell_type": "code",
      "source": "cross_01.plot(kind='bar')\n",
      "execution_count": 23,
      "outputs": [
        {
          "output_type": "execute_result",
          "execution_count": 23,
          "data": {
            "text/plain": "<matplotlib.axes._subplots.AxesSubplot at 0x7f711ad524a8>"
          },
          "metadata": {}
        },
        {
          "output_type": "display_data",
          "data": {
            "image/png": "[encoded data removed]",
            "text/plain": "<Figure size 432x288 with 1 Axes>"
          },
          "metadata": {
            "needs_background": "light"
          }
        }
      ]
    },
    {
      "metadata": {},
      "cell_type": "markdown",
      "source": "##### 女性の生存率が高かった\n##### 子供の生存率も高かった\n"
    },
    {
      "metadata": {},
      "cell_type": "markdown",
      "source": "船室のクラス（Pclass）と生存のクロス集計"
    },
    {
      "metadata": {
        "trusted": true
      },
      "cell_type": "code",
      "source": "cross_02 = df.pivot_table(index=['Survived'], columns=['Pclass'], values=['PassengerId'], aggfunc='count', fill_value=0)\ncross_02",
      "execution_count": 24,
      "outputs": [
        {
          "output_type": "execute_result",
          "execution_count": 24,
          "data": {
            "text/html": "<div>\n<style scoped>\n    .dataframe tbody tr th:only-of-type {\n        vertical-align: middle;\n    }\n\n    .dataframe tbody tr th {\n        vertical-align: top;\n    }\n\n    .dataframe thead tr th {\n        text-align: left;\n    }\n\n    .dataframe thead tr:last-of-type th {\n        text-align: right;\n    }\n</style>\n<table border=\"1\" class=\"dataframe\">\n  <thead>\n    <tr>\n      <th></th>\n      <th colspan=\"3\" halign=\"left\">PassengerId</th>\n    </tr>\n    <tr>\n      <th>Pclass</th>\n      <th>1</th>\n      <th>2</th>\n      <th>3</th>\n    </tr>\n    <tr>\n      <th>Survived</th>\n      <th></th>\n      <th></th>\n      <th></th>\n    </tr>\n  </thead>\n  <tbody>\n    <tr>\n      <th>0</th>\n      <td>80</td>\n      <td>97</td>\n      <td>372</td>\n    </tr>\n    <tr>\n      <th>1</th>\n      <td>136</td>\n      <td>87</td>\n      <td>119</td>\n    </tr>\n  </tbody>\n</table>\n</div>",
            "text/plain": "         PassengerId         \nPclass             1   2    3\nSurvived                     \n0                 80  97  372\n1                136  87  119"
          },
          "metadata": {}
        }
      ]
    },
    {
      "metadata": {
        "trusted": true
      },
      "cell_type": "code",
      "source": "cross_02.plot(kind='bar')",
      "execution_count": 54,
      "outputs": [
        {
          "output_type": "execute_result",
          "execution_count": 54,
          "data": {
            "text/plain": "<matplotlib.axes._subplots.AxesSubplot at 0x7f8bc84b8c88>"
          },
          "metadata": {}
        },
        {
          "output_type": "display_data",
          "data": {
            "image/png": "[encoded data removed]",
            "text/plain": "<Figure size 432x288 with 1 Axes>"
          },
          "metadata": {
            "needs_background": "light"
          }
        }
      ]
    },
    {
      "metadata": {},
      "cell_type": "markdown",
      "source": "\ncolumnsの階層化 Sexの分類のもとにPclassの分類を階層化する"
    },
    {
      "metadata": {
        "trusted": true
      },
      "cell_type": "code",
      "source": "cross_03_1 = df.pivot_table(index=['Survived'], columns=['Sex', 'Pclass'], values=['PassengerId'], aggfunc='count', fill_value=0)\ncross_03_1",
      "execution_count": 55,
      "outputs": [
        {
          "output_type": "execute_result",
          "execution_count": 55,
          "data": {
            "text/html": "<div>\n<style scoped>\n    .dataframe tbody tr th:only-of-type {\n        vertical-align: middle;\n    }\n\n    .dataframe tbody tr th {\n        vertical-align: top;\n    }\n\n    .dataframe thead tr th {\n        text-align: left;\n    }\n\n    .dataframe thead tr:last-of-type th {\n        text-align: right;\n    }\n</style>\n<table border=\"1\" class=\"dataframe\">\n  <thead>\n    <tr>\n      <th></th>\n      <th colspan=\"6\" halign=\"left\">PassengerId</th>\n    </tr>\n    <tr>\n      <th>Sex</th>\n      <th colspan=\"3\" halign=\"left\">female</th>\n      <th colspan=\"3\" halign=\"left\">male</th>\n    </tr>\n    <tr>\n      <th>Pclass</th>\n      <th>1</th>\n      <th>2</th>\n      <th>3</th>\n      <th>1</th>\n      <th>2</th>\n      <th>3</th>\n    </tr>\n    <tr>\n      <th>Survived</th>\n      <th></th>\n      <th></th>\n      <th></th>\n      <th></th>\n      <th></th>\n      <th></th>\n    </tr>\n  </thead>\n  <tbody>\n    <tr>\n      <th>0</th>\n      <td>3</td>\n      <td>6</td>\n      <td>72</td>\n      <td>77</td>\n      <td>91</td>\n      <td>300</td>\n    </tr>\n    <tr>\n      <th>1</th>\n      <td>91</td>\n      <td>70</td>\n      <td>72</td>\n      <td>45</td>\n      <td>17</td>\n      <td>47</td>\n    </tr>\n  </tbody>\n</table>\n</div>",
            "text/plain": "         PassengerId                      \nSex           female         male         \nPclass             1   2   3    1   2    3\nSurvived                                  \n0                  3   6  72   77  91  300\n1                 91  70  72   45  17   47"
          },
          "metadata": {}
        }
      ]
    },
    {
      "metadata": {},
      "cell_type": "markdown",
      "source": "\nここまでのクロス集計は'count'であるから，valuesは何を指定してもよい。ただし，indexとcolumnsを指定したラベルは省く。"
    },
    {
      "metadata": {
        "trusted": true
      },
      "cell_type": "code",
      "source": "cross_03_2 = df.pivot_table(index=['Survived'], columns=['Sex', 'Pclass'], values=['Name'], aggfunc='count', fill_value=0)\ncross_03_2",
      "execution_count": 56,
      "outputs": [
        {
          "output_type": "execute_result",
          "execution_count": 56,
          "data": {
            "text/html": "<div>\n<style scoped>\n    .dataframe tbody tr th:only-of-type {\n        vertical-align: middle;\n    }\n\n    .dataframe tbody tr th {\n        vertical-align: top;\n    }\n\n    .dataframe thead tr th {\n        text-align: left;\n    }\n\n    .dataframe thead tr:last-of-type th {\n        text-align: right;\n    }\n</style>\n<table border=\"1\" class=\"dataframe\">\n  <thead>\n    <tr>\n      <th></th>\n      <th colspan=\"6\" halign=\"left\">Name</th>\n    </tr>\n    <tr>\n      <th>Sex</th>\n      <th colspan=\"3\" halign=\"left\">female</th>\n      <th colspan=\"3\" halign=\"left\">male</th>\n    </tr>\n    <tr>\n      <th>Pclass</th>\n      <th>1</th>\n      <th>2</th>\n      <th>3</th>\n      <th>1</th>\n      <th>2</th>\n      <th>3</th>\n    </tr>\n    <tr>\n      <th>Survived</th>\n      <th></th>\n      <th></th>\n      <th></th>\n      <th></th>\n      <th></th>\n      <th></th>\n    </tr>\n  </thead>\n  <tbody>\n    <tr>\n      <th>0</th>\n      <td>3</td>\n      <td>6</td>\n      <td>72</td>\n      <td>77</td>\n      <td>91</td>\n      <td>300</td>\n    </tr>\n    <tr>\n      <th>1</th>\n      <td>91</td>\n      <td>70</td>\n      <td>72</td>\n      <td>45</td>\n      <td>17</td>\n      <td>47</td>\n    </tr>\n  </tbody>\n</table>\n</div>",
            "text/plain": "           Name                      \nSex      female         male         \nPclass        1   2   3    1   2    3\nSurvived                             \n0             3   6  72   77  91  300\n1            91  70  72   45  17   47"
          },
          "metadata": {}
        }
      ]
    },
    {
      "metadata": {},
      "cell_type": "markdown",
      "source": "\nvaluesを外すと，sexの上に，他の全てのラベルが階層化される"
    },
    {
      "metadata": {
        "trusted": true
      },
      "cell_type": "code",
      "source": "cross_04 = df.pivot_table(index=['Survived'], columns=['Sex'], aggfunc='count', fill_value=0)\ncross_04",
      "execution_count": 58,
      "outputs": [
        {
          "output_type": "execute_result",
          "execution_count": 58,
          "data": {
            "text/html": "<div>\n<style scoped>\n    .dataframe tbody tr th:only-of-type {\n        vertical-align: middle;\n    }\n\n    .dataframe tbody tr th {\n        vertical-align: top;\n    }\n\n    .dataframe thead tr th {\n        text-align: left;\n    }\n\n    .dataframe thead tr:last-of-type th {\n        text-align: right;\n    }\n</style>\n<table border=\"1\" class=\"dataframe\">\n  <thead>\n    <tr>\n      <th></th>\n      <th colspan=\"2\" halign=\"left\">Age</th>\n      <th colspan=\"2\" halign=\"left\">Cabin</th>\n      <th colspan=\"2\" halign=\"left\">Embarked</th>\n      <th colspan=\"2\" halign=\"left\">Fare</th>\n      <th colspan=\"2\" halign=\"left\">Name</th>\n      <th>...</th>\n      <th colspan=\"2\" halign=\"left\">PassengerId</th>\n      <th colspan=\"2\" halign=\"left\">Pclass</th>\n      <th colspan=\"2\" halign=\"left\">SibSp</th>\n      <th colspan=\"2\" halign=\"left\">Ticket</th>\n      <th colspan=\"2\" halign=\"left\">Unnamed: 0</th>\n    </tr>\n    <tr>\n      <th>Sex</th>\n      <th>female</th>\n      <th>male</th>\n      <th>female</th>\n      <th>male</th>\n      <th>female</th>\n      <th>male</th>\n      <th>female</th>\n      <th>male</th>\n      <th>female</th>\n      <th>male</th>\n      <th>...</th>\n      <th>female</th>\n      <th>male</th>\n      <th>female</th>\n      <th>male</th>\n      <th>female</th>\n      <th>male</th>\n      <th>female</th>\n      <th>male</th>\n      <th>female</th>\n      <th>male</th>\n    </tr>\n    <tr>\n      <th>Survived</th>\n      <th></th>\n      <th></th>\n      <th></th>\n      <th></th>\n      <th></th>\n      <th></th>\n      <th></th>\n      <th></th>\n      <th></th>\n      <th></th>\n      <th></th>\n      <th></th>\n      <th></th>\n      <th></th>\n      <th></th>\n      <th></th>\n      <th></th>\n      <th></th>\n      <th></th>\n      <th></th>\n      <th></th>\n    </tr>\n  </thead>\n  <tbody>\n    <tr>\n      <th>0</th>\n      <td>81</td>\n      <td>468</td>\n      <td>6</td>\n      <td>62</td>\n      <td>81</td>\n      <td>468</td>\n      <td>81</td>\n      <td>468</td>\n      <td>81</td>\n      <td>468</td>\n      <td>...</td>\n      <td>81</td>\n      <td>468</td>\n      <td>81</td>\n      <td>468</td>\n      <td>81</td>\n      <td>468</td>\n      <td>81</td>\n      <td>468</td>\n      <td>81</td>\n      <td>468</td>\n    </tr>\n    <tr>\n      <th>1</th>\n      <td>233</td>\n      <td>109</td>\n      <td>91</td>\n      <td>45</td>\n      <td>231</td>\n      <td>109</td>\n      <td>233</td>\n      <td>109</td>\n      <td>233</td>\n      <td>109</td>\n      <td>...</td>\n      <td>233</td>\n      <td>109</td>\n      <td>233</td>\n      <td>109</td>\n      <td>233</td>\n      <td>109</td>\n      <td>233</td>\n      <td>109</td>\n      <td>233</td>\n      <td>109</td>\n    </tr>\n  </tbody>\n</table>\n<p>2 rows × 22 columns</p>\n</div>",
            "text/plain": "            Age       Cabin      Embarked        Fare        Name      ...   \\\nSex      female male female male   female male female male female male ...    \nSurvived                                                               ...    \n0            81  468      6   62       81  468     81  468     81  468 ...    \n1           233  109     91   45      231  109    233  109    233  109 ...    \n\n         PassengerId      Pclass       SibSp      Ticket      Unnamed: 0       \nSex           female male female male female male female male     female male  \nSurvived                                                                       \n0                 81  468     81  468     81  468     81  468         81  468  \n1                233  109    233  109    233  109    233  109        233  109  \n\n[2 rows x 22 columns]"
          },
          "metadata": {}
        }
      ]
    },
    {
      "metadata": {
        "trusted": true
      },
      "cell_type": "code",
      "source": "",
      "execution_count": null,
      "outputs": []
    }
  ],
  "metadata": {
    "kernelspec": {
      "name": "python36",
      "display_name": "Python 3.6",
      "language": "python"
    },
    "language_info": {
      "mimetype": "text/x-python",
      "nbconvert_exporter": "python",
      "name": "python",
      "pygments_lexer": "ipython3",
      "version": "3.6.6",
      "file_extension": ".py",
      "codemirror_mode": {
        "version": 3,
        "name": "ipython"
      }
    }
  },
  "nbformat": 4,
  "nbformat_minor": 2
}