{
  "cells": [
    {
      "metadata": {},
      "cell_type": "markdown",
      "source": "# 平均値、中央値、モード、およびNumpyの導入"
    },
    {
      "metadata": {},
      "cell_type": "markdown",
      "source": "## 平均値 vs. 中央値"
    },
    {
      "metadata": {},
      "cell_type": "markdown",
      "source": "疑似的な収入分布を作ろう。27000を中央にした正規分布で、標準偏差は15000、データ数は10000とする。（用語については後程解説する）\nそして、平均値を計算する。27000に近くなるはず。"
    },
    {
      "metadata": {
        "trusted": true
      },
      "cell_type": "code",
      "source": "import numpy as np\n\nincomes = np.random.normal(27000, 15000, 10000)\nnp.mean(incomes)",
      "execution_count": 5,
      "outputs": [
        {
          "output_type": "execute_result",
          "execution_count": 5,
          "data": {
            "text/plain": "27227.05577373161"
          },
          "metadata": {}
        }
      ]
    },
    {
      "metadata": {},
      "cell_type": "markdown",
      "source": "収入データを50個にセグメント化し、ヒストグラムにプロットすることもできる。\n\nmatplotlibは、グラフを表示するパッケージである。\n%matplotlib inlineとすることにより、グラフをインライン表示できる。この文を挿入しない場合、グラフは別ウィンドウに表示される。\n\n実際にグラフを表示するためには、plt.show()が必要である。"
    },
    {
      "metadata": {
        "trusted": true
      },
      "cell_type": "code",
      "source": "%matplotlib inline\nimport matplotlib.pyplot as plt\nplt.hist(incomes, 50)\nplt.show()",
      "execution_count": 6,
      "outputs": [
        {
          "output_type": "display_data",
          "data": {
            "image/png": "[encoded data removed]",
            "text/plain": "<matplotlib.figure.Figure at 0x7f11051c2cc0>"
          },
          "metadata": {}
        }
      ]
    },
    {
      "metadata": {},
      "cell_type": "markdown",
      "source": "中央値を計算してみよう。今回はきれいな分布をしているため、中央値は平均値と同様に27000に近くなる。\n\n中央値は、numpyのmedian関数を使って求めることができる。"
    },
    {
      "metadata": {
        "trusted": true
      },
      "cell_type": "code",
      "source": "np.median(incomes)",
      "execution_count": 7,
      "outputs": [
        {
          "output_type": "execute_result",
          "execution_count": 7,
          "data": {
            "text/plain": "27092.865760632318"
          },
          "metadata": {}
        }
      ]
    },
    {
      "metadata": {},
      "cell_type": "markdown",
      "source": "大富豪をデータに混ぜよう。所得格差が実感できる。\n\n収入分布incomesはリストであるため、データを追加するためにappend関数を用いることができる。"
    },
    {
      "metadata": {
        "trusted": true
      },
      "cell_type": "code",
      "source": "incomes = np.append(incomes, [1000000000])",
      "execution_count": 8,
      "outputs": []
    },
    {
      "metadata": {},
      "cell_type": "markdown",
      "source": "中央値は大きく変わらないが、平均値は大きく変わる。median関数で中央値を求め、mean関数で平均を求めて確認しよう。"
    },
    {
      "metadata": {
        "trusted": true
      },
      "cell_type": "code",
      "source": "np.median(incomes)",
      "execution_count": 9,
      "outputs": [
        {
          "output_type": "execute_result",
          "execution_count": 9,
          "data": {
            "text/plain": "27093.609635370773"
          },
          "metadata": {}
        }
      ]
    },
    {
      "metadata": {
        "trusted": true
      },
      "cell_type": "code",
      "source": "np.mean(incomes)",
      "execution_count": 10,
      "outputs": [
        {
          "output_type": "execute_result",
          "execution_count": 10,
          "data": {
            "text/plain": "127214.33434029759"
          },
          "metadata": {}
        }
      ]
    },
    {
      "metadata": {},
      "cell_type": "markdown",
      "source": "平均値が大きく変わったことを確認できただろうか。\n\nこの例でわかったことは、1つの異常値が存在すると、平均値を大きく歪ませる可能性があることである。\n\n異常値をしっかりと捉えていないと、データを大きく間違って解釈することがある。"
    },
    {
      "metadata": {},
      "cell_type": "markdown",
      "source": "## モード（最頻値）"
    },
    {
      "metadata": {},
      "cell_type": "markdown",
      "source": "次に、疑似的な年齢のデータを500人分作る。データは、最小値を18、最大値を90とする。\n\nデータの作成には、numpyのrandom.randint関数を使用する。これは、ランダム整数値を生成する関数である。"
    },
    {
      "metadata": {
        "trusted": true
      },
      "cell_type": "code",
      "source": "ages = np.random.randint(18, high=90, size=500)\nages",
      "execution_count": 11,
      "outputs": [
        {
          "output_type": "execute_result",
          "execution_count": 11,
          "data": {
            "text/plain": "array([54, 58, 62, 25, 87, 40, 71, 76, 67, 74, 69, 82, 75, 87, 42, 36, 34,\n       37, 88, 31, 89, 59, 85, 82, 29, 67, 45, 67, 21, 19, 25, 32, 47, 67,\n       84, 58, 24, 40, 82, 46, 29, 30, 44, 78, 53, 28, 28, 56, 40, 42, 67,\n       82, 77, 84, 85, 37, 40, 55, 87, 45, 56, 68, 39, 88, 63, 74, 58, 88,\n       25, 88, 76, 54, 75, 34, 61, 89, 31, 51, 55, 67, 22, 36, 79, 86, 31,\n       66, 40, 46, 86, 83, 40, 41, 22, 63, 89, 19, 31, 71, 81, 22, 20, 25,\n       34, 36, 76, 42, 73, 35, 20, 19, 56, 51, 62, 87, 42, 41, 63, 31, 40,\n       64, 71, 59, 23, 41, 23, 86, 42, 45, 81, 65, 61, 86, 36, 41, 55, 59,\n       53, 31, 39, 31, 51, 38, 54, 46, 38, 36, 43, 72, 44, 84, 21, 63, 82,\n       66, 85, 25, 24, 46, 52, 84, 46, 39, 80, 28, 54, 59, 58, 60, 22, 36,\n       59, 38, 36, 86, 31, 53, 60, 20, 66, 27, 70, 60, 21, 39, 65, 78, 84,\n       83, 74, 78, 73, 64, 72, 54, 37, 68, 58, 84, 70, 48, 23, 33, 29, 34,\n       48, 43, 75, 51, 83, 85, 78, 50, 18, 18, 63, 66, 26, 69, 22, 88, 69,\n       35, 88, 40, 29, 71, 52, 75, 66, 87, 41, 56, 29, 79, 18, 45, 69, 66,\n       76, 89, 74, 34, 84, 83, 33, 64, 78, 67, 41, 60, 19, 41, 49, 60, 50,\n       22, 47, 29, 19, 81, 22, 23, 20, 56, 84, 58, 82, 51, 82, 46, 42, 85,\n       46, 28, 83, 49, 74, 31, 33, 27, 34, 65, 45, 42, 74, 88, 19, 49, 54,\n       63, 68, 70, 45, 37, 88, 68, 53, 45, 76, 43, 29, 29, 58, 33, 64, 62,\n       23, 53, 58, 29, 49, 24, 35, 56, 88, 71, 22, 36, 35, 41, 43, 85, 38,\n       79, 74, 67, 40, 75, 45, 83, 74, 25, 72, 76, 50, 60, 34, 47, 32, 52,\n       79, 19, 86, 25, 19, 20, 83, 84, 42, 86, 71, 39, 85, 43, 80, 68, 27,\n       18, 35, 49, 56, 59, 24, 43, 47, 61, 61, 81, 26, 63, 86, 50, 18, 56,\n       36, 63, 71, 82, 19, 19, 25, 24, 79, 27, 44, 72, 42, 54, 31, 87, 82,\n       55, 20, 36, 57, 65, 62, 55, 83, 71, 60, 75, 29, 46, 45, 18, 59, 33,\n       27, 46, 73, 41, 77, 75, 42, 30, 44, 47, 19, 52, 37, 51, 32, 79, 66,\n       18, 60, 81, 87, 68, 50, 76, 22, 57, 63, 61, 50, 78, 71, 75, 36, 82,\n       84, 63, 66, 64, 61, 58, 36, 62, 29, 72, 75, 40, 53, 42, 55, 72, 60,\n       28, 22, 54, 33, 70, 45, 20, 69, 25, 79, 72, 29, 79, 52, 40, 20, 52,\n       77, 41, 55, 22, 57, 63, 32, 69, 88, 64, 80, 44, 43, 56, 66, 68, 84,\n       51, 45, 52, 56, 58, 34, 33])"
          },
          "metadata": {}
        }
      ]
    },
    {
      "metadata": {},
      "cell_type": "markdown",
      "source": "ここで、科学や統計の計算に用いられる便利なパッケージであるscipyを導入して、このデータの統計量を求めよう。\n\nscipyの中からstatsをインポートすることによって、モードstats.mode（最も頻繁に出現する値）を求めることができる。\n\n"
    },
    {
      "metadata": {
        "trusted": true
      },
      "cell_type": "code",
      "source": "from scipy import stats\nstats.mode(ages)",
      "execution_count": 12,
      "outputs": [
        {
          "output_type": "execute_result",
          "execution_count": 12,
          "data": {
            "text/plain": "ModeResult(mode=array([29]), count=array([12]))"
          },
          "metadata": {}
        }
      ]
    },
    {
      "metadata": {},
      "cell_type": "markdown",
      "source": "では、次に練習問題にチャレンジしよう。\n\n### 練習問題\n\n以下のコードは、疑似的な電子商取引における購入金額の分布を作るコードである。金額は乱数を使って生成している。\n\n"
    },
    {
      "metadata": {
        "trusted": true
      },
      "cell_type": "code",
      "source": "%matplotlib inline\n\nimport numpy as np\nimport matplotlib.pyplot as plt\n\nincomes = np.random.normal(200.0, 10.0, 10000)\n\nplt.hist(incomes, 50)\nplt.show()",
      "execution_count": 2,
      "outputs": [
        {
          "output_type": "display_data",
          "data": {
            "image/png": "[encoded data removed]",
            "text/plain": "<matplotlib.figure.Figure at 0x7f03fe3b0550>"
          },
          "metadata": {}
        }
      ]
    },
    {
      "metadata": {},
      "cell_type": "markdown",
      "source": "このデータの平均値と中央値を見つけなさい。以下に、コードを入力すること。"
    },
    {
      "metadata": {
        "trusted": true
      },
      "cell_type": "code",
      "source": "#平均値を求めなさい\nnp.mean(incomes)",
      "execution_count": 3,
      "outputs": [
        {
          "output_type": "execute_result",
          "execution_count": 3,
          "data": {
            "text/plain": "200.04964421964124"
          },
          "metadata": {}
        }
      ]
    },
    {
      "metadata": {
        "trusted": true
      },
      "cell_type": "code",
      "source": "#中央値を求めなさい\nnp.median(incomes)",
      "execution_count": 4,
      "outputs": [
        {
          "output_type": "execute_result",
          "execution_count": 4,
          "data": {
            "text/plain": "200.03535108210448"
          },
          "metadata": {}
        }
      ]
    },
    {
      "metadata": {
        "trusted": true
      },
      "cell_type": "code",
      "source": "",
      "execution_count": null,
      "outputs": []
    }
  ],
  "metadata": {
    "kernelspec": {
      "name": "python3",
      "display_name": "Python 3",
      "language": "python"
    },
    "language_info": {
      "mimetype": "text/x-python",
      "nbconvert_exporter": "python",
      "name": "python",
      "pygments_lexer": "ipython3",
      "version": "3.5.4",
      "file_extension": ".py",
      "codemirror_mode": {
        "version": 3,
        "name": "ipython"
      }
    }
  },
  "nbformat": 4,
  "nbformat_minor": 1
}