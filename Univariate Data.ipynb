{
  "cells": [
    {
      "metadata": {
        "collapsed": true
      },
      "cell_type": "markdown",
      "source": "## 記述統計 ##\n### １変量データ ###\n\n#### 統計処理パッケージ ####\nパッケージscipyは、データ分析のための基本的な関数を収容しているので、Pythonによる記述統計では、scipyをインポートする。もちろん、データを格納するための関数を収容しているnumpyもインポートする。\n\n#### １変量データ ####\n1変量データとは、種類が１種類しかないデータのことである。たとえば、数理統計学１科目だけの成績データは、１変量データ(univariate data)である。これに対して、数理統計学の他に、業務自動化演習、AIプログラミングII、ICTマネジメントIなどの成績を加えたデータは多変量データ(multivariate data)と呼ばれる。\n\nここでは、１変量データとして、架空の数理統計学の成績データ(exam_score)を用いることにする。"
    },
    {
      "metadata": {
        "trusted": true
      },
      "cell_type": "code",
      "source": "import numpy as np\nimport scipy as sp",
      "execution_count": 54,
      "outputs": []
    },
    {
      "metadata": {
        "trusted": true
      },
      "cell_type": "code",
      "source": "#データ処理をする上で、必要以上に高い精度は意味がなく、また、小数点以下の桁数が揃っている方が画面出力した場合にも見栄えがよい。そのため、小数点以下の精度を設定しておく。\n%precision 3",
      "execution_count": 55,
      "outputs": [
        {
          "output_type": "execute_result",
          "execution_count": 55,
          "data": {
            "text/plain": "'%.3f'"
          },
          "metadata": {}
        }
      ]
    },
    {
      "metadata": {
        "trusted": true
      },
      "cell_type": "code",
      "source": "exam_score = np.array([90, 75, 53, 88, 47, 95, 65, 77, 49, 82])\nexam_score",
      "execution_count": 56,
      "outputs": [
        {
          "output_type": "execute_result",
          "execution_count": 56,
          "data": {
            "text/plain": "array([90, 75, 53, 88, 47, 95, 65, 77, 49, 82])"
          },
          "metadata": {}
        }
      ]
    },
    {
      "metadata": {},
      "cell_type": "markdown",
      "source": "#### 平均値 ####\n最初に、平均値（期待値と呼ぶこともある）を計算しよう。\n\n\n$$ \\mu = \\frac{1}{N} \\sum_{i=1}^{N} x_i $$\n\n\n平均値muを計算するためには、合計sum_scoreとサンプルの個数（サンプルサイズ）Nとを用いる。\n\nmu = sum_score / N\n"
    },
    {
      "metadata": {
        "trusted": true
      },
      "cell_type": "code",
      "source": "N = len(exam_score)\nsum_score = sp.sum(exam_score)\nmu = sum_score / N\nmu",
      "execution_count": 57,
      "outputs": [
        {
          "output_type": "execute_result",
          "execution_count": 57,
          "data": {
            "text/plain": "72.1"
          },
          "metadata": {}
        }
      ]
    },
    {
      "metadata": {},
      "cell_type": "markdown",
      "source": "ただし、平均値は、scipyのmean関数を使って求めることができる。"
    },
    {
      "metadata": {
        "trusted": true
      },
      "cell_type": "code",
      "source": "sp.mean(exam_score)",
      "execution_count": 58,
      "outputs": [
        {
          "output_type": "execute_result",
          "execution_count": 58,
          "data": {
            "text/plain": "72.1"
          },
          "metadata": {}
        }
      ]
    },
    {
      "metadata": {},
      "cell_type": "markdown",
      "source": "#### 標本分散(sample variance) ####\n分散は、データが平均値からどれだけ離れているかを表す指標である。標本分散の計算式は、以下の通りである。\n\n\n$$ \\sigma^2 = \\frac{1}{N} \\sum_{i=1}^{N}(x_i - \\mu)^2 $$\n\n\n"
    },
    {
      "metadata": {
        "trusted": true
      },
      "cell_type": "code",
      "source": "sigma_2_sample = sp.sum((exam_score - mu) ** 2)/N\nsigma_2_sample",
      "execution_count": 59,
      "outputs": [
        {
          "output_type": "execute_result",
          "execution_count": 59,
          "data": {
            "text/plain": "280.69"
          },
          "metadata": {}
        }
      ]
    },
    {
      "metadata": {},
      "cell_type": "markdown",
      "source": "#### 不偏分散(unbiased variance) ####\n不偏分散は、標本分散が母集団の分散（すなわち、母分散）と比べて分散を過小評価することを修正するために導入された分散の概念である。\n\n標本分散を計算する際に用いる平均値は、標本から推定された推定量である。この推定量は、母集団の平均値から少しずれていると考えられる。標本分散は、この少しずれた平均値$\\mu$を$(x_i-\\mu)^2$使って計算しているので、母集団の平均値（母平均）を使って計算される母集団の分散を完全に正確には推定できない（具体的には、母集団の分散より小さくなる）。そこで、次の式で計算される不偏分散が導入された。\n\n$$ \\sigma^2 = \\frac{1}{N-1}\\sum_{i=1}^N (x_i - \\mu)^2 $$\n\n\n\n\n標本分散が偏りをもつのはなぜだろうか？\n\n簡単な例で考えてみよう。\n\n平均0．分散1である分布に従う母集団から3つの標本を取り出したところ、-1、0、1が得られた。\n\nこのとき、母分散（元の分布の分散）は、1であり、-1, 0, 1の分散である標本分散は、2/3であるので、標本分散を3/2倍、すなわち、N/（N-1）倍すると、母分散に一致する（実際に計算をして確かめよう）。\n\n先ほど標本分散を計算した例で、不偏分散を計算すると、次の通りである。"
    },
    {
      "metadata": {
        "trusted": true
      },
      "cell_type": "code",
      "source": "sigma_2_unbiased = sp.sum((exam_score - mu)** 2) / (N-1)\nsigma_2_unbiased",
      "execution_count": 60,
      "outputs": [
        {
          "output_type": "execute_result",
          "execution_count": 60,
          "data": {
            "text/plain": "311.8777777777778"
          },
          "metadata": {}
        }
      ]
    },
    {
      "metadata": {},
      "cell_type": "markdown",
      "source": "なお、scipyの分散を求める関数varは、ddof = 1と指定することによって、不偏分散を求めることができる。\n\n"
    },
    {
      "metadata": {
        "trusted": true
      },
      "cell_type": "code",
      "source": "sp.var(exam_score, ddof = 1)",
      "execution_count": 61,
      "outputs": [
        {
          "output_type": "execute_result",
          "execution_count": 61,
          "data": {
            "text/plain": "311.8777777777778"
          },
          "metadata": {}
        }
      ]
    },
    {
      "metadata": {},
      "cell_type": "markdown",
      "source": "#### 標準偏差 ####\n\n標準偏差は、分散の平方根である。分散は、元のデータが2乗された次元(dimension)をもっているので、そのままでは、データを扱い難い。そこで、分散の平方根である標準偏差が使われる。標準偏差の計算式は以下の通りである。\n\n$$ \\sigma = \\sqrt{\\sigma^2} = \\sqrt{\\frac{1}{N-1}\\sum_{i=1}^N (x_i - \\mu)^2}  $$"
    },
    {
      "metadata": {
        "trusted": true
      },
      "cell_type": "code",
      "source": "sigma = sp.sqrt(sigma_2_sample)\n'{:.3f}'.format(sigma)",
      "execution_count": 68,
      "outputs": [
        {
          "output_type": "execute_result",
          "execution_count": 68,
          "data": {
            "text/plain": "'16.754'"
          },
          "metadata": {}
        }
      ]
    },
    {
      "metadata": {},
      "cell_type": "markdown",
      "source": "scipyには標準偏差を求める関数stdも用意されている。不偏分散の平方根を求める場合には、ddof=1を指定する。"
    },
    {
      "metadata": {
        "trusted": true
      },
      "cell_type": "code",
      "source": "'{:.3f}'.format(sp.std(exam_score, ddof = 1))",
      "execution_count": 69,
      "outputs": [
        {
          "output_type": "execute_result",
          "execution_count": 69,
          "data": {
            "text/plain": "'17.660'"
          },
          "metadata": {}
        }
      ]
    },
    {
      "metadata": {},
      "cell_type": "markdown",
      "source": "#### 標準化 ####\n\n様々なデータを比べるとき、平均や分散（標準偏差）が特定の値になるように変換してから比較すると、それぞれのデータの特徴が明瞭になることがある。たとえば、平均値が大きな変数と平均が小さな変数とがある場合、全体の特徴を把握し難い。そのため、統計学では、標準化という手法が用いられる。具体的には、標準化は、データの平均を0に、標準偏差を1にするような変換のことである。こ\n\nデータの平均値を0にするには、すべてのデータから平均値を差し引けばよい。標準偏差を1にするためには、すべてのデータを標準偏差で割り算すればよい。\n\nそれでは、exam_scoreを標準化してみよう。\n"
    },
    {
      "metadata": {
        "trusted": true
      },
      "cell_type": "code",
      "source": "std_exam_score = (exam_score - mu) / sigma\nstd_exam_score",
      "execution_count": 74,
      "outputs": [
        {
          "output_type": "execute_result",
          "execution_count": 74,
          "data": {
            "text/plain": "array([ 1.068,  0.173, -1.14 ,  0.949, -1.498,  1.367, -0.424,  0.292,\n       -1.379,  0.591])"
          },
          "metadata": {}
        }
      ]
    },
    {
      "metadata": {},
      "cell_type": "markdown",
      "source": "標準化されたstd_exam_scoreの平均値と標準偏差を調べてみよう。\n\n練習のため、以下の2通りの方法で計算しなさい。\n+ 平均値と標準偏差の数式を使って計算\n+ scipyライブラリ内の関数を使って計算"
    },
    {
      "metadata": {
        "trusted": true
      },
      "cell_type": "code",
      "source": "std_mu = sp.sum(std_exam_score) / len(std_exam_score)\nstd_mu",
      "execution_count": 75,
      "outputs": [
        {
          "output_type": "execute_result",
          "execution_count": 75,
          "data": {
            "text/plain": "3.3306690738754696e-16"
          },
          "metadata": {}
        }
      ]
    },
    {
      "metadata": {
        "trusted": true
      },
      "cell_type": "code",
      "source": "std_var = sp.sum((std_exam_score - std_mu) ** 2)/len(std_exam_score)\nstd_var",
      "execution_count": 84,
      "outputs": [
        {
          "output_type": "execute_result",
          "execution_count": 84,
          "data": {
            "text/plain": "1.0"
          },
          "metadata": {}
        }
      ]
    },
    {
      "metadata": {
        "trusted": true
      },
      "cell_type": "code",
      "source": "sp.mean(std_sigma_exam)",
      "execution_count": 70,
      "outputs": [
        {
          "output_type": "execute_result",
          "execution_count": 70,
          "data": {
            "text/plain": "3.3306690738754696e-16"
          },
          "metadata": {}
        }
      ]
    },
    {
      "metadata": {
        "trusted": true
      },
      "cell_type": "code",
      "source": "sp.var(std_sigma_exam)",
      "execution_count": 71,
      "outputs": [
        {
          "output_type": "execute_result",
          "execution_count": 71,
          "data": {
            "text/plain": "1.0"
          },
          "metadata": {}
        }
      ]
    },
    {
      "metadata": {},
      "cell_type": "markdown",
      "source": "#### その他の統計量 ####\n\nscipyライブラリには、以下の統計量を求める関数が用意されている。\n\n##### 最大値 amax関数 #####\nデータ列の中の最大値を求める。\n\n##### 最小値 amin関数 #####\nデータ列の中の最小値を求める。\n\n##### 中央値 median関数 #####\nデータを昇順(ascending order)で並べたときに、ちょうど真ん中に来るデータを求める。\n\n"
    },
    {
      "metadata": {
        "trusted": true
      },
      "cell_type": "code",
      "source": "sp.amax(exam_score)",
      "execution_count": 86,
      "outputs": [
        {
          "output_type": "execute_result",
          "execution_count": 86,
          "data": {
            "text/plain": "95"
          },
          "metadata": {}
        }
      ]
    },
    {
      "metadata": {
        "trusted": true
      },
      "cell_type": "code",
      "source": "sp.amin(exam_score)",
      "execution_count": 87,
      "outputs": [
        {
          "output_type": "execute_result",
          "execution_count": 87,
          "data": {
            "text/plain": "47"
          },
          "metadata": {}
        }
      ]
    },
    {
      "metadata": {
        "trusted": true
      },
      "cell_type": "code",
      "source": "sp.median(exam_score)",
      "execution_count": 88,
      "outputs": [
        {
          "output_type": "execute_result",
          "execution_count": 88,
          "data": {
            "text/plain": "76.0"
          },
          "metadata": {}
        }
      ]
    },
    {
      "metadata": {},
      "cell_type": "markdown",
      "source": "#### 統計分析のための関数 ####\n\nscipyには、統計分析のための関数も用意されている。以下のコマンドを実行することにより、それらの関数を利用できるようになる。"
    },
    {
      "metadata": {
        "trusted": true
      },
      "cell_type": "code",
      "source": "from scipy import stats",
      "execution_count": 89,
      "outputs": []
    },
    {
      "metadata": {},
      "cell_type": "markdown",
      "source": "#### 四分位点 ####\n\n四分位点(quartile)とは、データを小さい方から大きさの順に並べたとき、データを4分の１ずつに分ける3つの点に対応するデータ値のことである。小さい方から順に、第１四分位点、中央値、第３四分位点と呼ぶ。\n\nexam_scoreの四分位点を求めよう。"
    },
    {
      "metadata": {
        "trusted": true
      },
      "cell_type": "code",
      "source": "exam_score",
      "execution_count": 91,
      "outputs": [
        {
          "output_type": "execute_result",
          "execution_count": 91,
          "data": {
            "text/plain": "array([90, 75, 53, 88, 47, 95, 65, 77, 49, 82])"
          },
          "metadata": {}
        }
      ]
    },
    {
      "metadata": {
        "trusted": true
      },
      "cell_type": "code",
      "source": "stats.scoreatpercentile(exam_score, 25)",
      "execution_count": 90,
      "outputs": [
        {
          "output_type": "execute_result",
          "execution_count": 90,
          "data": {
            "text/plain": "56.0"
          },
          "metadata": {}
        }
      ]
    },
    {
      "metadata": {
        "trusted": true
      },
      "cell_type": "code",
      "source": "stats.scoreatpercentile(exam_score, 50)",
      "execution_count": 92,
      "outputs": [
        {
          "output_type": "execute_result",
          "execution_count": 92,
          "data": {
            "text/plain": "76.0"
          },
          "metadata": {}
        }
      ]
    },
    {
      "metadata": {
        "trusted": true
      },
      "cell_type": "code",
      "source": "stats.scoreatpercentile(exam_score, 75)",
      "execution_count": 93,
      "outputs": [
        {
          "output_type": "execute_result",
          "execution_count": 93,
          "data": {
            "text/plain": "86.5"
          },
          "metadata": {}
        }
      ]
    },
    {
      "metadata": {},
      "cell_type": "markdown",
      "source": "exam_scoreを小さい方から順に並べると、[47, 49, 53, 65, 75, 77, 82, 88, 90, 95]となる。\n\n四分位数の求め方には、複数の方法があるが、高等学校の教科書に記載された求め方は、\n\n1. データを小さい順に並べる\n1. 中央値を求める（第2四分位数）\n1. 中央値より小さい「前半データ」と中央値より大きい「後半データ」に分ける\n1. 前半データ内での中央値が第1四分位数、後半データ内での中央値が第3四分位数\n1. 第3四分位数から第1四分位数を引いた値を四分位範囲という\n1. 四分位範囲の 1/2 倍を四分位偏差という\n\nというものである。\n\nstats.scoreatpercentileで用いられている第１四分位点の求め方は、\n\n1. 「データの個数から 1 を引いた値」に25%、50%、75%をかける\n1. 答えが整数 k なら k+1 番目の数が四分位数\n1. 答えが k+0.25 なら k+1 番目の 0.75 倍と k+2 番目の 0.25 倍の合計が四分位数\n1. 答えが k+0.5 なら k+1 番目の 0.5 倍と k+2 番目の 0.5 倍の合計が四分位数\n1. 答えが k+0.75 なら k+1 番目の 0.25 倍と k+2 番目の 0.75 倍の合計が四分位数\n\nである。\n\nstats.scoreatpercentileで用いられている中央値の求め方や第３四分位点の求め方は。自分で調べて確かめよう。\n\n"
    },
    {
      "metadata": {
        "trusted": true
      },
      "cell_type": "code",
      "source": "",
      "execution_count": null,
      "outputs": []
    }
  ],
  "metadata": {
    "kernelspec": {
      "name": "python36",
      "display_name": "Python 3.6",
      "language": "python"
    },
    "language_info": {
      "mimetype": "text/x-python",
      "nbconvert_exporter": "python",
      "name": "python",
      "pygments_lexer": "ipython3",
      "version": "3.6.6",
      "file_extension": ".py",
      "codemirror_mode": {
        "version": 3,
        "name": "ipython"
      }
    }
  },
  "nbformat": 4,
  "nbformat_minor": 2
}