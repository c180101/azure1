{
  "cells": [
    {
      "metadata": {},
      "cell_type": "markdown",
      "source": "# 外れ値の扱い"
    },
    {
      "metadata": {},
      "cell_type": "markdown",
      "source": "しばしば、外れ値は分析の邪魔になる。少数の外れ値が、結果全体をゆがませるのは望ましくない。ここでは、大富豪を混ぜた収入分布のデータを作ろう。\n\n最初に、収入分布が正規分布に従う場合（外れ値がない場合）を考える。\n\n正規分布のパラメータは、平均=27000、標準偏差=15000、サイズ=10000であるとする。\n\n正規分布を生成するには、numpy.random.normalを用いる。\n\n生成した正規分布をヒストグラムの形でグラフ表示するしよう。\n"
    },
    {
      "metadata": {
        "trusted": true,
        "scrolled": true
      },
      "cell_type": "code",
      "source": "%matplotlib inline\nimport numpy as np\n\nincomes = np.random.normal(27000, 15000, 10000)\n#incomes = np.append(incomes, [1000000000])\n\nimport matplotlib.pyplot as plt\nplt.hist(incomes, 50)\nplt.show()",
      "execution_count": 1,
      "outputs": [
        {
          "output_type": "display_data",
          "data": {
            "image/png": "[encoded data removed]",
            "text/plain": "<Figure size 432x288 with 1 Axes>"
          },
          "metadata": {
            "needs_background": "light"
          }
        }
      ]
    },
    {
      "metadata": {},
      "cell_type": "markdown",
      "source": "正規分布を確認できたであろうか？\n\n次に、この正規分布（リスト形式）に１個の外れ値を追加して、ヒストグラムを作成し、画面に表示しよう。"
    },
    {
      "metadata": {
        "trusted": true
      },
      "cell_type": "code",
      "source": "# %matplotlib inline\n# import numpy as np\n\n# incomes = np.random.normal(27000, 15000, 10000)\nincomes = np.append(incomes, [1000000000])\n\n# import matplotlib.pyplot as plt\nplt.hist(incomes, 50)\nplt.show()",
      "execution_count": 2,
      "outputs": [
        {
          "output_type": "display_data",
          "data": {
            "image/png": "[encoded data removed]",
            "text/plain": "<Figure size 432x288 with 1 Axes>"
          },
          "metadata": {
            "needs_background": "light"
          }
        }
      ]
    },
    {
      "metadata": {},
      "cell_type": "markdown",
      "source": "これを見ても何もわかりませんね。一人の大富豪が、ヒストグラム上においてその他の人々を一本の線に押し込めてしまった。その上、収入の平均までおかしくなった。\n\nincomesの平均値を求めなさい。"
    },
    {
      "metadata": {
        "trusted": true
      },
      "cell_type": "code",
      "source": "#incomes.mean()",
      "execution_count": 1,
      "outputs": []
    },
    {
      "metadata": {},
      "cell_type": "markdown",
      "source": "外れ値がなぜ発生し、どこから来るのか理解するのは大事なことである。そして、これを除去してもいいのか解析の目的と照らし合わせて考える必要がある。もし、典型的な市民を解析し理解したいのであれば、大富豪を除去していもいいように思える。\n\n実は、大富豪を除去するよりも良い方法がある。データセットの中央値から標準偏差*2より離れた値を除去する方法である。\n\n中央値は、numpy.medianによって求めることができる。\n\n標準偏差は、numpy.stdによって求めることができる。"
    },
    {
      "metadata": {
        "trusted": false
      },
      "cell_type": "code",
      "source": "def reject_outliers(data):\n    u = np.median(data)\n    s = np.std(data)\n    filtered = [e for e in data if (u - 2 * s < e < u + 2 * s)]\n    return filtered\n\nfiltered = reject_outliers(incomes)\n\nplt.hist(filtered, 50)\nplt.show()",
      "execution_count": 3,
      "outputs": [
        {
          "data": {
            "image/png": "[encoded data removed]",
            "text/plain": "<matplotlib.figure.Figure at 0x811a710>"
          },
          "metadata": {},
          "output_type": "display_data"
        }
      ]
    },
    {
      "metadata": {},
      "cell_type": "markdown",
      "source": "データが改善されたことがわかる。平均値も、意味をなすようになった。平均値を求めよう。"
    },
    {
      "metadata": {
        "trusted": true
      },
      "cell_type": "code",
      "source": "#np.mean(filtered)",
      "execution_count": 2,
      "outputs": []
    },
    {
      "metadata": {},
      "cell_type": "markdown",
      "source": "## アクティビティ"
    },
    {
      "metadata": {},
      "cell_type": "markdown",
      "source": "単一の外れ値の代わりに、いくつかのランダムな外れ値をデータに加えてみよう。また、外れ値の検出に、標準偏差に様々な数をかけた値を使ってみよう。そして、それらが結果にどのような影響を及ぼすのか確かめてみよう。"
    },
    {
      "metadata": {
        "trusted": true
      },
      "cell_type": "code",
      "source": "%matplotlib inline\nimport numpy as np\nimport matplotlib.pyplot as plt\n\n# 正規分布を生成するコード\n\n# 外れ値1を追加するコード\n\n# 外れ値2、外れ値3、...を追加するコード\n\n# ヒストグラムを表示\nplt.hist(incomes, 50)\nplt.show()",
      "execution_count": 4,
      "outputs": [
        {
          "output_type": "display_data",
          "data": {
            "image/png": "[encoded data removed]",
            "text/plain": "<Figure size 432x288 with 1 Axes>"
          },
          "metadata": {
            "needs_background": "light"
          }
        }
      ]
    },
    {
      "metadata": {
        "trusted": true
      },
      "cell_type": "code",
      "source": "#　中央値からある距離より離れた要素を除去する関数1\n\n\n\n# 要素を除去するコード\n\n\n# ヒストグラムを表示\n\n",
      "execution_count": 5,
      "outputs": []
    },
    {
      "metadata": {
        "trusted": true
      },
      "cell_type": "code",
      "source": "#　中央値からある距離より離れた要素を除去する関数2\n\n\n\n# 要素を除去するコード\n\n\n# ヒストグラムを表示\n\n",
      "execution_count": 6,
      "outputs": []
    },
    {
      "metadata": {
        "trusted": true
      },
      "cell_type": "code",
      "source": "#　中央値からある距離より離れた要素を除去する関数3\n\n\n\n# 要素を除去するコード\n\n\n# ヒストグラムを表示\n",
      "execution_count": 7,
      "outputs": []
    },
    {
      "metadata": {
        "trusted": true
      },
      "cell_type": "code",
      "source": "",
      "execution_count": null,
      "outputs": []
    }
  ],
  "metadata": {
    "kernelspec": {
      "name": "python36",
      "display_name": "Python 3.6",
      "language": "python"
    },
    "language_info": {
      "mimetype": "text/x-python",
      "nbconvert_exporter": "python",
      "name": "python",
      "pygments_lexer": "ipython3",
      "version": "3.6.6",
      "file_extension": ".py",
      "codemirror_mode": {
        "version": 3,
        "name": "ipython"
      }
    }
  },
  "nbformat": 4,
  "nbformat_minor": 1
}