{
  "cells": [
    {
      "metadata": {
        "collapsed": true
      },
      "cell_type": "markdown",
      "source": "# 機械学習・データ分析2019 #\n## 第1回 2019年4月15日 ##\n\n## ガイダンス ##\n\n### 本科目の目的 ###\n企業の経営・業務に関する課題に対して、統計・機械学習・プログラミングの技術を用いて、膨大なデータを分析することによって、業務改善や問題解決を提案できる\n\n### 学修の目標 ###\n1. 統計・機械学習・Pythonプログラミングを使って、膨大なデータ分析することができる\n2. 膨大なデータから価値あるデータを作り出すことができる\n3. 企業の経営・業務に関する課題をデータ分析の観点から捉えることができる\n\n\n\n### 授業の進め方 ###\n+ （教員）Jupyter Notebooksを使ってテキストテンプレートを配布する\n+ （学生）配布されたNotebookを開く\n+ （教員・学生）Notebookに記載された内容に沿って\n    + 説明を読む\n    + 説明を書き加える\n    + Pythonコードを入力する\n    + Pythonコードを実行する\n+ （学生）自分だけのテキストを作成する\n\n\n\n### シラバス情報 ###\n\n1  ガイダンス、準備\n\n2  データの可視化\n\n3  確率・統計\n\n4  回帰分析、小テスト①\n\n5  教師あり学習（回帰）\n\n6  教師あり学習（分類）\n\n7  教師なし学習、小テスト②\n\n8  ニューラルネットワーク\n\n9  Chainer、画像データ、多層パーセプトロン\n\n10  Tensorflow、多層パーセプトロン\n\n11  ディープラーニング\n\n12  畳込みニューラルネットワーク\n\n13  ChainerによるCNN、TensorflowによるCNN、小テスト③\n\n14  リカレントニューラルネットワークと時系列データ\n\n15  ChainerによるLSTMの実装\n\n16～18  課題提出①\n\n19  パターン認識\n\n20  サポートベクタマシン\n\n21  深層学習\n\n22  Chainerによる深層学習、小テスト④\n\n23  時系列データ分析\n\n24  動的システム、離散時間系\n\n25  ARMA、ARIMA、SARIMAX\n\n26～27  課題提出②\n\n28  スペクトル、フーリエ変換\n\n29  離散フーリエ変換、窓関数\n\n30  パワースペクトル密度、小テスト⑤\n\n31  アナログフィルタ\n\n32  FIRフィルタ、IIRフィルタ\n\n33  画像処理基礎\n\n34  画像処理\n\n35～36  課題提出③\n\n\n### データ分析（データサイエンス）の概要 ###\n\n![データサイエンスの概要](guidance_picture_1.png)\n\n\n#### データ分析の課題例 ####\n+ \n\n\n### 機械学習 ###\n機械学習とは、過去のデータに基づいて学習を行い、その学習結果に基づいて予測を行うアルゴリズムのことである。\n\n機械学習は、データ分析の手法を含み、データの観点からみると、データ分析と類似した考え方である。\n\n#### 教師なし学習 ####\n+ 学習すべき「正解」が与えられない\n+ 対象群を2つに分類する例では、事前に正しい分類例がわかっていない\n+ 探すべき対象が分かっていない場合に有効である\n    + 商品の解説文を分析し、あるカテゴリーを最も端的に表す言葉を見つける\n    \n\n#### 教師あり学習 ####\n+ アルゴリズムが学習するためのデータは、「正解」である\n+ 作成されたモデルは、値の予測に用いられる\n    + 過去の車の販売データを用いて、車の価格の予想のために用いるモデルを訓練し、このモデルを用いて、これから販売する車に対して最適な価格を予測する\n    + 訓練データがある場合、訓練データを訓練データとテストデータとに分け、テストデータを用いて予測を行って正解と比較することによりモデルの正確性を評価する、\n\n"
    },
    {
      "metadata": {
        "trusted": true
      },
      "cell_type": "markdown",
      "source": "### Python基本 ###\n#### Python基本について学ぼう ####\n#### Notebook Python101を参照 ###\n"
    },
    {
      "metadata": {
        "trusted": true
      },
      "cell_type": "code",
      "source": "x = 10\nprint (x)",
      "execution_count": 1,
      "outputs": [
        {
          "output_type": "stream",
          "text": "10\n",
          "name": "stdout"
        }
      ]
    },
    {
      "metadata": {
        "trusted": true
      },
      "cell_type": "code",
      "source": "",
      "execution_count": null,
      "outputs": []
    }
  ],
  "metadata": {
    "kernelspec": {
      "name": "python36",
      "display_name": "Python 3.6",
      "language": "python"
    },
    "language_info": {
      "mimetype": "text/x-python",
      "nbconvert_exporter": "python",
      "name": "python",
      "pygments_lexer": "ipython3",
      "version": "3.6.6",
      "file_extension": ".py",
      "codemirror_mode": {
        "version": 3,
        "name": "ipython"
      }
    }
  },
  "nbformat": 4,
  "nbformat_minor": 2
}