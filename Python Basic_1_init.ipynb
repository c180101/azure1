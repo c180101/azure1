{
  "cells": [
    {
      "metadata": {},
      "cell_type": "markdown",
      "source": "# Python Basics"
    },
    {
      "metadata": {},
      "cell_type": "markdown",
      "source": "## 機械学習・データ分析資料"
    },
    {
      "metadata": {},
      "cell_type": "markdown",
      "source": "## Whitespace Is Important\n\nPythonでは、空白文字は、重要な役割を果たす。\n特に、indent（インデント、字下げ）は、Pythonの文法で決められている。\n以下のコードにおいて、\nfor文の開始位置を０文字目とすると、print文、if文の開始位置は４文字目となり、\nその次の行のprint文の開始位置は８文字目となる。\n\nPython以外の言語、たとえば、JavaやCでは、indentは、コードの読み易さの観点から\n利用することが推奨されているが、Pythonでは、indentは、必須要件である。\n"
    },
    {
      "metadata": {},
      "cell_type": "markdown",
      "source": "### リスト\n\nlistOfNumbers = [1, 2, 3, 4, 5, 6]\n\n### for文\nfor number in listOfNumbers:\n\n### print文\n    print (number)\n\n### if文\n    if (number % 2 == 0):\n    -----------\n    else:\n    \n### 練習問題\nlistOfNumbersの要素を表示し、その要素が偶数(even number)であるか、奇数(odd number)であるかを表示しなさい。\n"
    },
    {
      "metadata": {
        "trusted": true
      },
      "cell_type": "code",
      "source": "listOfNumbers = [1, 2, 3, 4, 5, 6]\n\n#  以下に、プログラムを入力しなさい。\n\n\n\nprint (\"All done.\")\n        ",
      "execution_count": 1,
      "outputs": [
        {
          "output_type": "stream",
          "text": "All done.\n",
          "name": "stdout"
        }
      ]
    },
    {
      "metadata": {},
      "cell_type": "markdown",
      "source": "## Importing Modules\n\nPythonでは、ライブラリ（汎用的に使えるプログラムの集まり）が豊富に準備されている。膨大なライブラリがインターネット上に公開され、\nプログラマはそれらのライブラリを自分のプログラムで簡単に利用できる仕組みも準備されている。\n\nローカルなPython開発環境を整備する場合、ライブラリは、自分でローカル環境にインストールする必要があるが、\nMicrosoft Azure Jupyter Noteboolsを使う環境では、ライブラリは、Azureによって既にインストールされているので、\nプログラマは、自分のプログラムにライブラリをインポートするだけで、ライブラリを使えるようになる。\n\n以下のコードで使われているnumpyは、数値計算を効率的に行うためのライブラリである。"
    },
    {
      "metadata": {
        "trusted": true
      },
      "cell_type": "code",
      "source": "import numpy as np\n\nA = np.random.normal(25.0, 5.0, 10)\n\nprint (A)",
      "execution_count": 2,
      "outputs": [
        {
          "output_type": "stream",
          "text": "[17.28758238 36.82458754 20.26785956 25.69028332 24.27974181 27.80669623\n 26.57915159 16.98303082 18.96903507 23.17331963]\n",
          "name": "stdout"
        }
      ]
    },
    {
      "metadata": {},
      "cell_type": "markdown",
      "source": "↑のコードにおいて、\nnp.dandom.normal(25.0, 5.0, 10)\nは、平均=25.0、標準偏差=5.0、データの個数=10個である正規分布に従う乱数を発生させる関数である。"
    },
    {
      "metadata": {},
      "cell_type": "markdown",
      "source": "# データ型\n\n### Pythonがサポートするデータ型（List型、Tuple型など）に慣れよう！\n\nリスト型は、要素を[ ]で囲むことにより表現できる。（例）[1, 2, 3, 4]\n\nタプル型は、要素を（　）で囲むことにより表現できる。(例）　(1，2，3，4）\n\nタプルは、要素を変更することができなデータ型である。\n\n\n\n### Lists\n\n1，2、3，4，5、6からなるリストxを作成し、リストxの長さ（＝要素の個数）を表示しよう。\n\nリストxの長さは、len(x)によって求めることができる。"
    },
    {
      "metadata": {
        "trusted": true
      },
      "cell_type": "code",
      "source": "x = [      ]\n",
      "execution_count": null,
      "outputs": []
    },
    {
      "metadata": {},
      "cell_type": "markdown",
      "source": "リストxの先頭から3個の要素を取得する場合、x[:3]のように表現する。"
    },
    {
      "metadata": {
        "trusted": true
      },
      "cell_type": "code",
      "source": "# リストｘの先頭3要素を表示しよう",
      "execution_count": 7,
      "outputs": []
    },
    {
      "metadata": {},
      "cell_type": "markdown",
      "source": "リストの先頭から4個目以降の要素を取得する場合、x[4:]のように表現する。"
    },
    {
      "metadata": {
        "trusted": true
      },
      "cell_type": "code",
      "source": "# リストｘの先頭から4個目以降の要素を表示しよう",
      "execution_count": 8,
      "outputs": []
    },
    {
      "metadata": {},
      "cell_type": "markdown",
      "source": "リストの末尾から2個の要素を取得する場合、x[-2:]のように表現する。"
    },
    {
      "metadata": {
        "trusted": true
      },
      "cell_type": "code",
      "source": "# リストｘの末尾から2個の要素を表示しよう",
      "execution_count": 9,
      "outputs": []
    },
    {
      "metadata": {},
      "cell_type": "markdown",
      "source": "要素を連結してリストを拡張しよう\n\n要素を連結するためには、extend([連結する要素の列])を使用する\n\n（例）xと[7, 8]とを連結する場合、x.extend([7, 8])とすればよい"
    },
    {
      "metadata": {
        "trusted": true
      },
      "cell_type": "code",
      "source": "# リストxに任意の要素を連結し、リストxを表示させてみよう\n# リストx = [1, 2, 3, 4, 5, 6]\n#  連結するリストy = [7, 8, 9]\n\nx = [1, 2, 3, 4, 5, 6]\ny = [7, 8, 9]\n",
      "execution_count": 20,
      "outputs": []
    },
    {
      "metadata": {},
      "cell_type": "markdown",
      "source": "要素を追加してリストを拡張する\n\n(例）xに要素iを追加する場合、x.append(i)とすればよい"
    },
    {
      "metadata": {
        "trusted": true
      },
      "cell_type": "code",
      "source": "x = [1, 2, 3, 4, 5, 6]\nx.append(7)\n",
      "execution_count": 24,
      "outputs": []
    },
    {
      "metadata": {},
      "cell_type": "markdown",
      "source": "リストxにリストyを追加するとどうなるか？各自確かめてみよう。"
    },
    {
      "metadata": {},
      "cell_type": "markdown",
      "source": "### Jupyter Notebookの使い方\n\nどうですか？Jupyter Notebookに少しは慣れましたか？\n\nでは、「セル」について少し説明します。\n\n### セル\nIn []:　による入力エリアと、Out []:による結果表示エリアとは、「セル(cell)」と呼ばれる。セルは、入力エリアと結果表示エリアとがセットになっている。セルを選択した状態で「RUN」ボタンをクリック（又は、Shiftキー＋Enterキーを押下）すると、選択されているセルが実行される。正常に実行された場合、自動的に新しいセルが追加され、追加されたセルが選択された状態になる。\n\n1つのノートブックの中で、セルを実行すると、ノートブックは、その実行結果が反映した状態になる。たとえば、x = x + 1という計算を実行するセルを3回実行すると、ノートブックの中で、変数xは、+3　されている。\n\nセルには、Code、Markdown、Raw NBConvert、Headingの4つのタイプがある。Codeは、Pythonなどのコードを入力するセル、Markdownは、文書記述のためのセルであり、HTMLのタグも利用できる。NBConvertは、入力した文字がそのまま表示される。Headingは、Markdownモードの見出しと同じである。\nbunnsyo \n\nなお、セルに記述するコードは、スクリプトと呼ばれる。\n\n### カーネル\n　セルに記述されたスクリプトを実行すると、その実行結果が下に表示される。このスクリプトの実行は、「カーネル(kernel)」によって行われる。\n \n 　カーネルは、スクリプトを実行してその結果を返すプログラムであり、ノートブックごとに起動される。起動されたカーネルは、ノートブックが開いている間、常に実行されている。実行したスクリプトの内容は、カーネルの中で保持されている。\n  \n  新たなセルでスクリプトを実行するとき、カーネルは、それまでに実行されたセルの内容を利用して新たなセルのスクリプトを実行する。そのため、以前に実行されたスクリプトによって作成された変数は、新たなセルにおいてそのまま利用できる。Pythonをインタラクティブモードで動かした場合と同様である。\n\n"
    },
    {
      "metadata": {},
      "cell_type": "markdown",
      "source": "#### では、Pythonプログラミングを再開しよう。\n\nリスト型には、リストのリストという形式がある。\n\nすなわち、リストxとリストyとがあるとき、\n #### z = [x, y]\nというリストzを定義することができる。\n"
    },
    {
      "metadata": {
        "trusted": true
      },
      "cell_type": "code",
      "source": "# 以下のｘとｙを使って、リストのリストを[x, y]を作ってみよう。\n\nx = [1, 2, 3, 4, 5, 6]\ny = [10, 11, 12]\n\n",
      "execution_count": 25,
      "outputs": []
    },
    {
      "metadata": {
        "trusted": true
      },
      "cell_type": "code",
      "source": "# リストの要素は、先頭からの何番目の要素であるかを指定することによって取得できる\n# リストの要素の添字(index)は、0から始まる。\n\ny[1]\n",
      "execution_count": 27,
      "outputs": [
        {
          "output_type": "execute_result",
          "execution_count": 27,
          "data": {
            "text/plain": "11"
          },
          "metadata": {}
        }
      ]
    },
    {
      "metadata": {},
      "cell_type": "markdown",
      "source": "### ソート(sort)\n\nリストの要素は、昇順(ascending order)または降順(decending order)に並べ替えることができる。\n\nz.sort()は、リストzの要素を昇順に並べ替える。\n\nz.sort(reverse = True)は、リストｚの要素を降順に並べ替える。"
    },
    {
      "metadata": {
        "trusted": true
      },
      "cell_type": "code",
      "source": "z = [3, 2, 1]\nz.sort()\nz",
      "execution_count": 76,
      "outputs": [
        {
          "output_type": "execute_result",
          "execution_count": 76,
          "data": {
            "text/plain": "[1, 2, 3]"
          },
          "metadata": {}
        }
      ]
    },
    {
      "metadata": {
        "trusted": true
      },
      "cell_type": "code",
      "source": "z.sort(reverse=True)\nz",
      "execution_count": 77,
      "outputs": [
        {
          "output_type": "execute_result",
          "execution_count": 77,
          "data": {
            "text/plain": "[3, 2, 1]"
          },
          "metadata": {}
        }
      ]
    },
    {
      "metadata": {},
      "cell_type": "markdown",
      "source": "## Tuples"
    },
    {
      "metadata": {
        "trusted": true
      },
      "cell_type": "code",
      "source": "#Tuples are just immutable lists. Use () instead of []\n# タプルを作成する\nx = (1, 2, 3)\nlen(x)",
      "execution_count": 78,
      "outputs": [
        {
          "output_type": "execute_result",
          "execution_count": 78,
          "data": {
            "text/plain": "3"
          },
          "metadata": {}
        }
      ]
    },
    {
      "metadata": {
        "trusted": true
      },
      "cell_type": "code",
      "source": "# タプルの要素を取得する\ny = (4, 5, 6)\ny[2]",
      "execution_count": 79,
      "outputs": [
        {
          "output_type": "execute_result",
          "execution_count": 79,
          "data": {
            "text/plain": "6"
          },
          "metadata": {}
        }
      ]
    },
    {
      "metadata": {
        "trusted": true
      },
      "cell_type": "code",
      "source": "# タプルのリスト\nlistOfTuples = [x, y]\nlistOfTuples",
      "execution_count": 80,
      "outputs": [
        {
          "output_type": "execute_result",
          "execution_count": 80,
          "data": {
            "text/plain": "[(1, 2, 3), (4, 5, 6)]"
          },
          "metadata": {}
        }
      ]
    },
    {
      "metadata": {},
      "cell_type": "markdown",
      "source": "### split関数\n\nsplit関数は、文字列を区切り文字(delimiter)で分割する関数である。\n文字列.split('区切り文字')の形で用いられる。\n\n"
    },
    {
      "metadata": {
        "trusted": true
      },
      "cell_type": "code",
      "source": "(age, income) = \"32,120000\".split(',')\nprint(age)\nprint(income)",
      "execution_count": 81,
      "outputs": [
        {
          "output_type": "stream",
          "text": "32\n120000\n",
          "name": "stdout"
        }
      ]
    },
    {
      "metadata": {},
      "cell_type": "markdown",
      "source": "## Dictionaries\n\nその他に、ディクショナリ形式のデータもある。"
    },
    {
      "metadata": {
        "trusted": true
      },
      "cell_type": "code",
      "source": "# Like a map or hash table in other languages\ncaptains = {}\ncaptains[\"Enterprise\"] = \"Kirk\"\ncaptains[\"Enterprise D\"] = \"Picard\"\ncaptains[\"Deep Space Nine\"] = \"Sisko\"\ncaptains[\"Voyager\"] = \"Janeway\"\n\nprint(captains[\"Voyager\"])",
      "execution_count": 82,
      "outputs": [
        {
          "output_type": "stream",
          "text": "Janeway\n",
          "name": "stdout"
        }
      ]
    },
    {
      "metadata": {
        "trusted": true
      },
      "cell_type": "code",
      "source": "print(captains.get(\"Enterprise\"))",
      "execution_count": 83,
      "outputs": [
        {
          "output_type": "stream",
          "text": "Kirk\n",
          "name": "stdout"
        }
      ]
    },
    {
      "metadata": {
        "trusted": true
      },
      "cell_type": "code",
      "source": "print(captains.get(\"NX-01\"))",
      "execution_count": 84,
      "outputs": [
        {
          "output_type": "stream",
          "text": "None\n",
          "name": "stdout"
        }
      ]
    },
    {
      "metadata": {
        "trusted": true
      },
      "cell_type": "code",
      "source": "for ship in captains:\n    print(ship + \": \" + captains[ship])",
      "execution_count": 85,
      "outputs": [
        {
          "output_type": "stream",
          "text": "Enterprise: Kirk\nEnterprise D: Picard\nDeep Space Nine: Sisko\nVoyager: Janeway\n",
          "name": "stdout"
        }
      ]
    },
    {
      "metadata": {},
      "cell_type": "markdown",
      "source": "## Functions\n\n関数を定義する。\n関数とは、与えられた値に対して、定められた処理を行って結果を返す機能のことである。画面出力するprint()は、関数の１つである。\n関数を用いると、プログラムを効率的に記述することができる。同じような処理が何回も現れるようなプログラムでは、\n同じような処理を関数を使って記述すれば、同じような処理を何回も記述する必要がなくなり、便利である。\n\n関数の書式(format)は、\n\ndef 関数名　(引数1, 引数2, ...):\n    処理\n    return 戻り値\n\nである。\n"
    },
    {
      "metadata": {
        "trusted": true
      },
      "cell_type": "code",
      "source": "def SquareIt(x):\n    return x * x\n\nprint(SquareIt(2))\n",
      "execution_count": 2,
      "outputs": [
        {
          "output_type": "stream",
          "text": "4\n",
          "name": "stdout"
        }
      ]
    },
    {
      "metadata": {},
      "cell_type": "markdown",
      "source": "### 関数を変数に代入する ###\n\n以下のプログラムは、関数を変数に代入する例である。プログラムの冒頭で関数を定義し、その後、関数を変数に代入して利用している。"
    },
    {
      "metadata": {
        "trusted": true
      },
      "cell_type": "code",
      "source": "# 関数mul_funcを定義する\ndef mul_func(a, b):\n    return a * b\n\n# 関数mul_funcを変数に代入する\nfunc = mul_func\n# 変数を用いて関数を実行\nresult = func(2, 3)\nprint(result)\n",
      "execution_count": 1,
      "outputs": [
        {
          "output_type": "stream",
          "text": "6\n",
          "name": "stdout"
        }
      ]
    },
    {
      "metadata": {},
      "cell_type": "markdown",
      "source": "### 関数の引数に関数を指定する ###\n\n（大前提）関数の引数に変数を指定できる\n\n（小前提）関数を変数に入れることができる\n\n（結論）　ゆえに、関数の引数に関数を指定できる\n\nこのように、ある事実やその前提となる正しい情報を起点として、推理を重ねて結論を導き出す手法を「三段論法(syllogism)」と呼ぶ。\n\nということで、関数の引数に関数を指定すると、次のようなコードを記述できる。"
    },
    {
      "metadata": {
        "trusted": true
      },
      "cell_type": "code",
      "source": "#You can pass functions around as parameters\ndef DoSomething(f, x):\n    return f(x)\n\nprint(DoSomething(SquareIt, 3))",
      "execution_count": 88,
      "outputs": [
        {
          "output_type": "stream",
          "text": "9\n",
          "name": "stdout"
        }
      ]
    },
    {
      "metadata": {},
      "cell_type": "markdown",
      "source": "### 無名関数(anonymous function) ###\n\n無名関数とは、名前のない関数のことであり、匿名関数とも呼ばれる。何のこと？？？\n無名関数を使うと、関数を定義することなく、関数と同じような処理をすることができる。\n\n無名関数にはどんなメリットがあるのか？\n+ プログラムをシンプルに記述できる（引数をカッコで括ったり、return文を書いたりする必要がない）\n+ 以下のプログラムでは、わざわざ関数SquareItを定義しなくても済む"
    },
    {
      "metadata": {
        "trusted": true
      },
      "cell_type": "code",
      "source": "#Lambda functions let you inline simple functions\nprint(DoSomething(lambda x: x * x * x, 3))",
      "execution_count": 89,
      "outputs": [
        {
          "output_type": "stream",
          "text": "27\n",
          "name": "stdout"
        }
      ]
    },
    {
      "metadata": {},
      "cell_type": "markdown",
      "source": "## Boolean Expressions"
    },
    {
      "metadata": {
        "trusted": true
      },
      "cell_type": "code",
      "source": "print(1 == 3)",
      "execution_count": 90,
      "outputs": [
        {
          "output_type": "stream",
          "text": "False\n",
          "name": "stdout"
        }
      ]
    },
    {
      "metadata": {
        "trusted": true
      },
      "cell_type": "code",
      "source": "print(True or False)",
      "execution_count": 91,
      "outputs": [
        {
          "output_type": "stream",
          "text": "True\n",
          "name": "stdout"
        }
      ]
    },
    {
      "metadata": {
        "trusted": true
      },
      "cell_type": "code",
      "source": "print(1 is 3)",
      "execution_count": 92,
      "outputs": [
        {
          "output_type": "stream",
          "text": "False\n",
          "name": "stdout"
        }
      ]
    },
    {
      "metadata": {
        "trusted": true
      },
      "cell_type": "code",
      "source": "if 1 is 3:\n    print(\"How did that happen?\")\nelif 1 > 3:\n    print(\"Yikes\")\nelse:\n    print(\"All is well with the world\")",
      "execution_count": 93,
      "outputs": [
        {
          "output_type": "stream",
          "text": "All is well with the world\n",
          "name": "stdout"
        }
      ]
    },
    {
      "metadata": {},
      "cell_type": "markdown",
      "source": "## Looping\n\n関数range()は、連続した数字の列を造る関数であり、3つの引数をとる。\n\n+ 第1引数は最初の数字を表わす（省略時=0）\n+ 第2引数は最後の数字の次の数字を表す（省略不可）\n+ 第3引数は数字と数字との間のステップ幅を表す（省略時=1）\n"
    },
    {
      "metadata": {
        "trusted": true
      },
      "cell_type": "code",
      "source": "for x in range(10):\n    print(x)",
      "execution_count": 94,
      "outputs": [
        {
          "output_type": "stream",
          "text": "0\n1\n2\n3\n4\n5\n6\n7\n8\n9\n",
          "name": "stdout"
        }
      ]
    },
    {
      "metadata": {
        "trusted": true
      },
      "cell_type": "code",
      "source": "for x in range(10):\n    if (x is 1):\n        continue\n    if (x > 5):\n        break\n    print(x)",
      "execution_count": 95,
      "outputs": [
        {
          "output_type": "stream",
          "text": "0\n2\n3\n4\n5\n",
          "name": "stdout"
        }
      ]
    },
    {
      "metadata": {
        "trusted": true
      },
      "cell_type": "code",
      "source": "x = 0\nwhile (x < 10):\n    print(x)\n    x += 1",
      "execution_count": 96,
      "outputs": [
        {
          "output_type": "stream",
          "text": "0\n1\n2\n3\n4\n5\n6\n7\n8\n9\n",
          "name": "stdout"
        }
      ]
    },
    {
      "metadata": {},
      "cell_type": "markdown",
      "source": "## Activity"
    },
    {
      "metadata": {},
      "cell_type": "markdown",
      "source": "Write some code that creates a list of integers, loops through each element of the list, and only prints out even numbers!\n（整数のリストを作成し、リスト中の各要素を調べて、偶数だけを画面出力する）\n\n"
    },
    {
      "metadata": {
        "trusted": true
      },
      "cell_type": "code",
      "source": "from numpy.random import *\n\n# 整数のリストを作成する\n# randint(a, b, c)は、最小値がaであり、最大値+1がbであり、cが生成する整数の個数であり、乱数を生成する関数である。\n\nlist_randint = (randint(0, 100, 100))\nprint(list_randint)\n\n# while文を使ってみよう\n\n\n\n# for文を使ってみよう\n\n",
      "execution_count": 33,
      "outputs": []
    },
    {
      "metadata": {
        "trusted": true
      },
      "cell_type": "code",
      "source": "#i = 0\n#while (i < 100):\n#    if list_randint[i] % 2 == 0:\n#       print(list_randint[i], end = \" \")\n#    i += 1\n#print()\n\n",
      "execution_count": 50,
      "outputs": []
    },
    {
      "metadata": {
        "trusted": true
      },
      "cell_type": "code",
      "source": "\n#for s in list_randint:\n#    if s % 2 == 0:\n#        print(s, end = \" \")\n#print()    \n",
      "execution_count": 51,
      "outputs": []
    },
    {
      "metadata": {
        "trusted": true
      },
      "cell_type": "code",
      "source": "",
      "execution_count": null,
      "outputs": []
    }
  ],
  "metadata": {
    "kernelspec": {
      "name": "python36",
      "display_name": "Python 3.6",
      "language": "python"
    },
    "language_info": {
      "mimetype": "text/x-python",
      "nbconvert_exporter": "python",
      "name": "python",
      "pygments_lexer": "ipython3",
      "version": "3.6.6",
      "file_extension": ".py",
      "codemirror_mode": {
        "version": 3,
        "name": "ipython"
      }
    }
  },
  "nbformat": 4,
  "nbformat_minor": 1
}